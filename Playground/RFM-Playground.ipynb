{
 "cells": [
  {
   "cell_type": "code",
   "execution_count": 1,
   "id": "6449a3aa",
   "metadata": {},
   "outputs": [],
   "source": [
    "import pandas as pd #data analysis\n",
    "import matplotlib.pyplot as plt\n",
    "import seaborn as sns"
   ]
  },
  {
   "cell_type": "code",
   "execution_count": 2,
   "id": "bc0b2806",
   "metadata": {},
   "outputs": [
    {
     "data": {
      "text/html": [
       "<div>\n",
       "<style scoped>\n",
       "    .dataframe tbody tr th:only-of-type {\n",
       "        vertical-align: middle;\n",
       "    }\n",
       "\n",
       "    .dataframe tbody tr th {\n",
       "        vertical-align: top;\n",
       "    }\n",
       "\n",
       "    .dataframe thead th {\n",
       "        text-align: right;\n",
       "    }\n",
       "</style>\n",
       "<table border=\"1\" class=\"dataframe\">\n",
       "  <thead>\n",
       "    <tr style=\"text-align: right;\">\n",
       "      <th></th>\n",
       "      <th>customer_id</th>\n",
       "      <th>trans_date</th>\n",
       "      <th>tran_amount</th>\n",
       "    </tr>\n",
       "  </thead>\n",
       "  <tbody>\n",
       "    <tr>\n",
       "      <th>0</th>\n",
       "      <td>CS5295</td>\n",
       "      <td>11-Feb-13</td>\n",
       "      <td>35</td>\n",
       "    </tr>\n",
       "    <tr>\n",
       "      <th>1</th>\n",
       "      <td>CS4768</td>\n",
       "      <td>15-Mar-15</td>\n",
       "      <td>39</td>\n",
       "    </tr>\n",
       "    <tr>\n",
       "      <th>2</th>\n",
       "      <td>CS2122</td>\n",
       "      <td>26-Feb-13</td>\n",
       "      <td>52</td>\n",
       "    </tr>\n",
       "    <tr>\n",
       "      <th>3</th>\n",
       "      <td>CS1217</td>\n",
       "      <td>16-Nov-11</td>\n",
       "      <td>99</td>\n",
       "    </tr>\n",
       "    <tr>\n",
       "      <th>4</th>\n",
       "      <td>CS1850</td>\n",
       "      <td>20-Nov-13</td>\n",
       "      <td>78</td>\n",
       "    </tr>\n",
       "  </tbody>\n",
       "</table>\n",
       "</div>"
      ],
      "text/plain": [
       "  customer_id trans_date  tran_amount\n",
       "0      CS5295  11-Feb-13           35\n",
       "1      CS4768  15-Mar-15           39\n",
       "2      CS2122  26-Feb-13           52\n",
       "3      CS1217  16-Nov-11           99\n",
       "4      CS1850  20-Nov-13           78"
      ]
     },
     "execution_count": 2,
     "metadata": {},
     "output_type": "execute_result"
    }
   ],
   "source": [
    "df = pd.read_csv(\"Retail_Data_Transactions.csv\") #import\n",
    "\n",
    "#preview\n",
    "df.head()"
   ]
  },
  {
   "cell_type": "code",
   "execution_count": 3,
   "id": "e3a37928",
   "metadata": {},
   "outputs": [
    {
     "data": {
      "text/plain": [
       "customer_id    object\n",
       "trans_date     object\n",
       "tran_amount     int64\n",
       "dtype: object"
      ]
     },
     "execution_count": 3,
     "metadata": {},
     "output_type": "execute_result"
    }
   ],
   "source": [
    "#datatypes\n",
    "df.dtypes"
   ]
  },
  {
   "cell_type": "code",
   "execution_count": 4,
   "id": "eb6a7458",
   "metadata": {},
   "outputs": [
    {
     "data": {
      "text/plain": [
       "customer_id            object\n",
       "trans_date     datetime64[ns]\n",
       "tran_amount             int64\n",
       "dtype: object"
      ]
     },
     "execution_count": 4,
     "metadata": {},
     "output_type": "execute_result"
    }
   ],
   "source": [
    "#change date to date\n",
    "df.trans_date = pd.to_datetime(df[\"trans_date\"])\n",
    "\n",
    "#data type\n",
    "df.dtypes"
   ]
  },
  {
   "cell_type": "code",
   "execution_count": 5,
   "id": "8286d83c",
   "metadata": {},
   "outputs": [
    {
     "data": {
      "text/html": [
       "<div>\n",
       "<style scoped>\n",
       "    .dataframe tbody tr th:only-of-type {\n",
       "        vertical-align: middle;\n",
       "    }\n",
       "\n",
       "    .dataframe tbody tr th {\n",
       "        vertical-align: top;\n",
       "    }\n",
       "\n",
       "    .dataframe thead th {\n",
       "        text-align: right;\n",
       "    }\n",
       "</style>\n",
       "<table border=\"1\" class=\"dataframe\">\n",
       "  <thead>\n",
       "    <tr style=\"text-align: right;\">\n",
       "      <th></th>\n",
       "      <th>customer_id</th>\n",
       "      <th>trans_date</th>\n",
       "      <th>tran_amount</th>\n",
       "    </tr>\n",
       "  </thead>\n",
       "  <tbody>\n",
       "    <tr>\n",
       "      <th>0</th>\n",
       "      <td>CS5295</td>\n",
       "      <td>2013-02-11</td>\n",
       "      <td>35</td>\n",
       "    </tr>\n",
       "    <tr>\n",
       "      <th>1</th>\n",
       "      <td>CS4768</td>\n",
       "      <td>2015-03-15</td>\n",
       "      <td>39</td>\n",
       "    </tr>\n",
       "  </tbody>\n",
       "</table>\n",
       "</div>"
      ],
      "text/plain": [
       "  customer_id trans_date  tran_amount\n",
       "0      CS5295 2013-02-11           35\n",
       "1      CS4768 2015-03-15           39"
      ]
     },
     "execution_count": 5,
     "metadata": {},
     "output_type": "execute_result"
    }
   ],
   "source": [
    "#preview\n",
    "df.head(2)"
   ]
  },
  {
   "cell_type": "markdown",
   "id": "6c73318d",
   "metadata": {},
   "source": [
    "### RFM\n",
    "    - Recency"
   ]
  },
  {
   "cell_type": "code",
   "execution_count": 6,
   "id": "1a3a2e56",
   "metadata": {},
   "outputs": [
    {
     "data": {
      "text/html": [
       "<div>\n",
       "<style scoped>\n",
       "    .dataframe tbody tr th:only-of-type {\n",
       "        vertical-align: middle;\n",
       "    }\n",
       "\n",
       "    .dataframe tbody tr th {\n",
       "        vertical-align: top;\n",
       "    }\n",
       "\n",
       "    .dataframe thead th {\n",
       "        text-align: right;\n",
       "    }\n",
       "</style>\n",
       "<table border=\"1\" class=\"dataframe\">\n",
       "  <thead>\n",
       "    <tr style=\"text-align: right;\">\n",
       "      <th></th>\n",
       "      <th>ID</th>\n",
       "      <th>Min</th>\n",
       "      <th>Max</th>\n",
       "    </tr>\n",
       "  </thead>\n",
       "  <tbody>\n",
       "    <tr>\n",
       "      <th>0</th>\n",
       "      <td>CS1112</td>\n",
       "      <td>2011-06-15</td>\n",
       "      <td>2015-01-14</td>\n",
       "    </tr>\n",
       "    <tr>\n",
       "      <th>1</th>\n",
       "      <td>CS1113</td>\n",
       "      <td>2011-05-27</td>\n",
       "      <td>2015-02-09</td>\n",
       "    </tr>\n",
       "    <tr>\n",
       "      <th>2</th>\n",
       "      <td>CS1114</td>\n",
       "      <td>2011-07-14</td>\n",
       "      <td>2015-02-12</td>\n",
       "    </tr>\n",
       "    <tr>\n",
       "      <th>3</th>\n",
       "      <td>CS1115</td>\n",
       "      <td>2011-08-10</td>\n",
       "      <td>2015-03-05</td>\n",
       "    </tr>\n",
       "    <tr>\n",
       "      <th>4</th>\n",
       "      <td>CS1116</td>\n",
       "      <td>2011-06-27</td>\n",
       "      <td>2014-08-25</td>\n",
       "    </tr>\n",
       "  </tbody>\n",
       "</table>\n",
       "</div>"
      ],
      "text/plain": [
       "       ID        Min        Max\n",
       "0  CS1112 2011-06-15 2015-01-14\n",
       "1  CS1113 2011-05-27 2015-02-09\n",
       "2  CS1114 2011-07-14 2015-02-12\n",
       "3  CS1115 2011-08-10 2015-03-05\n",
       "4  CS1116 2011-06-27 2014-08-25"
      ]
     },
     "execution_count": 6,
     "metadata": {},
     "output_type": "execute_result"
    }
   ],
   "source": [
    "#Aggregate for the min and max date for each customer IDD\n",
    "recency = df.groupby(\"customer_id\").agg({'trans_date':['min', 'max']}).reset_index()\n",
    "\n",
    "#drop levels on columns\n",
    "recency.columns = recency.columns.droplevel()\n",
    "    \n",
    "#rename columns\n",
    "recency.columns = [\"ID\", \"Min\", \"Max\"]\n",
    "\n",
    "#preview\n",
    "recency.head()"
   ]
  },
  {
   "cell_type": "code",
   "execution_count": 7,
   "id": "a95e1556",
   "metadata": {},
   "outputs": [
    {
     "data": {
      "text/plain": [
       "customer_id            object\n",
       "trans_date     datetime64[ns]\n",
       "tran_amount             int64\n",
       "dtype: object"
      ]
     },
     "execution_count": 7,
     "metadata": {},
     "output_type": "execute_result"
    }
   ],
   "source": [
    "df.dtypes"
   ]
  },
  {
   "cell_type": "code",
   "execution_count": 8,
   "id": "a1d0f978",
   "metadata": {},
   "outputs": [],
   "source": [
    "import datetime as dt\n",
    "PRESENT = dt.datetime(2011,12,10)"
   ]
  },
  {
   "cell_type": "code",
   "execution_count": 9,
   "id": "32964c1c",
   "metadata": {},
   "outputs": [
    {
     "data": {
      "text/html": [
       "<div>\n",
       "<style scoped>\n",
       "    .dataframe tbody tr th:only-of-type {\n",
       "        vertical-align: middle;\n",
       "    }\n",
       "\n",
       "    .dataframe tbody tr th {\n",
       "        vertical-align: top;\n",
       "    }\n",
       "\n",
       "    .dataframe thead th {\n",
       "        text-align: right;\n",
       "    }\n",
       "</style>\n",
       "<table border=\"1\" class=\"dataframe\">\n",
       "  <thead>\n",
       "    <tr style=\"text-align: right;\">\n",
       "      <th></th>\n",
       "      <th>customer_id</th>\n",
       "      <th>trans_date</th>\n",
       "    </tr>\n",
       "  </thead>\n",
       "  <tbody>\n",
       "    <tr>\n",
       "      <th>0</th>\n",
       "      <td>CS1112</td>\n",
       "      <td>1309</td>\n",
       "    </tr>\n",
       "    <tr>\n",
       "      <th>1</th>\n",
       "      <td>CS1113</td>\n",
       "      <td>1354</td>\n",
       "    </tr>\n",
       "    <tr>\n",
       "      <th>2</th>\n",
       "      <td>CS1114</td>\n",
       "      <td>1309</td>\n",
       "    </tr>\n",
       "    <tr>\n",
       "      <th>3</th>\n",
       "      <td>CS1115</td>\n",
       "      <td>1303</td>\n",
       "    </tr>\n",
       "    <tr>\n",
       "      <th>4</th>\n",
       "      <td>CS1116</td>\n",
       "      <td>1155</td>\n",
       "    </tr>\n",
       "    <tr>\n",
       "      <th>...</th>\n",
       "      <td>...</td>\n",
       "      <td>...</td>\n",
       "    </tr>\n",
       "    <tr>\n",
       "      <th>6884</th>\n",
       "      <td>CS8996</td>\n",
       "      <td>1120</td>\n",
       "    </tr>\n",
       "    <tr>\n",
       "      <th>6885</th>\n",
       "      <td>CS8997</td>\n",
       "      <td>1116</td>\n",
       "    </tr>\n",
       "    <tr>\n",
       "      <th>6886</th>\n",
       "      <td>CS8998</td>\n",
       "      <td>1293</td>\n",
       "    </tr>\n",
       "    <tr>\n",
       "      <th>6887</th>\n",
       "      <td>CS8999</td>\n",
       "      <td>1073</td>\n",
       "    </tr>\n",
       "    <tr>\n",
       "      <th>6888</th>\n",
       "      <td>CS9000</td>\n",
       "      <td>1273</td>\n",
       "    </tr>\n",
       "  </tbody>\n",
       "</table>\n",
       "<p>6889 rows × 2 columns</p>\n",
       "</div>"
      ],
      "text/plain": [
       "     customer_id  trans_date\n",
       "0         CS1112        1309\n",
       "1         CS1113        1354\n",
       "2         CS1114        1309\n",
       "3         CS1115        1303\n",
       "4         CS1116        1155\n",
       "...          ...         ...\n",
       "6884      CS8996        1120\n",
       "6885      CS8997        1116\n",
       "6886      CS8998        1293\n",
       "6887      CS8999        1073\n",
       "6888      CS9000        1273\n",
       "\n",
       "[6889 rows x 2 columns]"
      ]
     },
     "execution_count": 9,
     "metadata": {},
     "output_type": "execute_result"
    }
   ],
   "source": [
    "df.groupby(\"customer_id\").agg({\"trans_date\": lambda date: (date.max() - date.min()).days}).reset_index()"
   ]
  },
  {
   "cell_type": "code",
   "execution_count": 10,
   "id": "9af57d18",
   "metadata": {},
   "outputs": [
    {
     "data": {
      "text/plain": [
       "pandas.core.frame.DataFrame"
      ]
     },
     "execution_count": 10,
     "metadata": {},
     "output_type": "execute_result"
    }
   ],
   "source": [
    "type(df)"
   ]
  },
  {
   "cell_type": "code",
   "execution_count": 18,
   "id": "cf8b8180",
   "metadata": {},
   "outputs": [
    {
     "data": {
      "text/plain": [
       "Timestamp('2015-03-16 00:00:00')"
      ]
     },
     "execution_count": 18,
     "metadata": {},
     "output_type": "execute_result"
    }
   ],
   "source": [
    "df.trans_date.max()"
   ]
  },
  {
   "cell_type": "code",
   "execution_count": 20,
   "id": "7ccbe03b",
   "metadata": {},
   "outputs": [
    {
     "data": {
      "text/plain": [
       "datetime.datetime(2015, 3, 17, 0, 0)"
      ]
     },
     "execution_count": 20,
     "metadata": {},
     "output_type": "execute_result"
    }
   ],
   "source": [
    "present = dt.datetime(2015,3,17)\n",
    "\n",
    "present"
   ]
  },
  {
   "cell_type": "markdown",
   "id": "db5a24d9",
   "metadata": {},
   "source": [
    "- Investigate how recency max date is actually calculated.  **\n",
    "- See how classification is done\n",
    "- Set list for segmentation for user customizability, also default to 4 segments with warning message."
   ]
  },
  {
   "cell_type": "markdown",
   "id": "ab5b909a",
   "metadata": {},
   "source": [
    "- Note that for Recency Score we need to give inverse labels as the more active the customer is the lower the value of Recency. :)"
   ]
  },
  {
   "cell_type": "markdown",
   "id": "6c82426b",
   "metadata": {},
   "source": [
    "- Customers with the lowest recency, highest frequency and monetary amounts considered as top customers."
   ]
  },
  {
   "cell_type": "code",
   "execution_count": 115,
   "id": "6a8b8988",
   "metadata": {},
   "outputs": [],
   "source": [
    "def recency(data, id, date, present_date, bins = {5 : [5,4,3,2,1]}):\n",
    "    '''\n",
    "    This function will calculate the recency.\n",
    "    data: Dataframe\n",
    "        \n",
    "        A dataframe containing at least the customer ID, Transaction/Order Date\n",
    "    \n",
    "    id:   String, Integer\n",
    "        \n",
    "        (Order/Customer/Transaction) Id column (string or int)\n",
    "    \n",
    "    date: Date, Datetime, Object\n",
    "\n",
    "        A date column (NB: A type conversion will be attempted by the function but you can also ensure the date type is proper)\n",
    "    threshold: An integer value, specifying how many days should be considered\n",
    "    \n",
    "    present_date: datetime \n",
    "        The present date or most recent date to serve as a reference point for recency\n",
    "        \n",
    "    bins: dictionary, default 5\n",
    "        A dictionary containing the number of segments to be created from recency score and the labels associated \n",
    "        to quantile groups\n",
    "    '''\n",
    "    #error instance to check if input is either a pandas dataframe and is also not none\n",
    "    if isinstance(data, pd.DataFrame) == False or data is None:\n",
    "        raise ValueError(\"data: Expecting a Dataframe or got 'None'\")\n",
    "    \n",
    "    #error instance to check if id column is an identified column name\n",
    "    if id not in data.columns:\n",
    "        raise ValueError(\"id: Expected an id (a column) in Dataframe\")\n",
    "    \n",
    "    #examine the datatype of the date column\n",
    "    if data.dtypes[date].name != \"datetime64[ns]\":\n",
    "        raise ValueError(\"date: Expected a date datatype, 'convert the date/datetime type'\")\n",
    "        #print(\"This Column is not a of date/datetime data type\")\n",
    "    \n",
    "    if present_date is None:\n",
    "        raise ValueError(\"present_date: Specify the recent date to calculate recency\")\n",
    "    #aggregation to calculate recency\n",
    "    result = data.groupby(id) \\\n",
    "            .agg({date: lambda date: (present_date - date.max()).days})\\\n",
    "            .reset_index() #reset index\n",
    "    \n",
    "    if isinstance(bin, int) == False:\n",
    "        raise ValueError(\"bin: Value needs to be an integer. default is 5\")\n",
    "    \n",
    "    if len(list(bins.values())) != int(list(bins.keys())[0]):\n",
    "        print(\"Warning: The number of bins for quantile is not same as the label. default is {}\".format(bins))\n",
    "    \n",
    "    #rename column\n",
    "    result.rename(columns = {date : \"recency\"}, inplace = True)\n",
    "    \n",
    "    #get bin value\n",
    "    bin_value = int(list(bins.keys())[0])\n",
    "    \n",
    "    #get bin labels\n",
    "    bin_labels = list(bins.values())[0]\n",
    "    \n",
    "    #logic to use bins value\n",
    "    result[\"recency_bins\"] = pd.qcut(result.recency, bin_value, bin_labels)\n",
    "    \n",
    "    #note that if bin changes then label needs to change also\n",
    "    \n",
    "    \n",
    "    return result"
   ]
  },
  {
   "cell_type": "code",
   "execution_count": 120,
   "id": "a4777f1d",
   "metadata": {},
   "outputs": [],
   "source": [
    "bins = {4: [4,3,2,1]}\n",
    "#get bin value\n",
    "bin_value = int(list(bins.keys())[0])\n",
    "    \n",
    "#get bin labels\n",
    "bin_labels = list(bins.values())\n",
    "\n"
   ]
  },
  {
   "cell_type": "code",
   "execution_count": 122,
   "id": "0addfe28",
   "metadata": {},
   "outputs": [
    {
     "name": "stdout",
     "output_type": "stream",
     "text": [
      "Warning: The number of bins for quantile is not same as the label. default is {6: [6, 5, 4, 3, 2, 1]}\n"
     ]
    },
    {
     "data": {
      "text/plain": [
       "5    1175\n",
       "6    1164\n",
       "2    1151\n",
       "3    1149\n",
       "1    1143\n",
       "4    1107\n",
       "Name: recency_bins, dtype: int64"
      ]
     },
     "execution_count": 122,
     "metadata": {},
     "output_type": "execute_result"
    }
   ],
   "source": [
    "rec = recency(df, \"customer_id\", \"trans_date\", present, bins = {6: [6,5,4,3,2,1]})\n",
    "\n",
    "rec.recency_bins.value_counts()"
   ]
  },
  {
   "cell_type": "code",
   "execution_count": 31,
   "id": "d8d3e661",
   "metadata": {},
   "outputs": [
    {
     "data": {
      "text/plain": [
       "5    1445\n",
       "3    1374\n",
       "1    1374\n",
       "2    1363\n",
       "4    1333\n",
       "Name: recency, dtype: int64"
      ]
     },
     "execution_count": 31,
     "metadata": {},
     "output_type": "execute_result"
    }
   ],
   "source": [
    "pd.qcut(rec.recency, 5, [5,4,3,2,1]).value_counts()"
   ]
  },
  {
   "cell_type": "code",
   "execution_count": 24,
   "id": "fcc98af6",
   "metadata": {},
   "outputs": [
    {
     "data": {
      "text/plain": [
       "datetime.datetime"
      ]
     },
     "execution_count": 24,
     "metadata": {},
     "output_type": "execute_result"
    }
   ],
   "source": [
    "type(present)"
   ]
  },
  {
   "cell_type": "markdown",
   "id": "ee365ea3",
   "metadata": {},
   "source": [
    "#### Frequency"
   ]
  },
  {
   "cell_type": "code",
   "execution_count": 13,
   "id": "a14b21fa",
   "metadata": {},
   "outputs": [],
   "source": [
    "def frequency(data, id):\n",
    "    '''\n",
    "    This function will calculate the recency.\n",
    "    data: Dataframe\n",
    "        \n",
    "        A dataframe containing at least the customer ID, Transaction/Order Date\n",
    "    \n",
    "    id:   String, Integer\n",
    "        \n",
    "        (Order/Customer/Transaction) Id column (string or int)\n",
    "    '''\n",
    "    #error instance to check if input is either a pandas dataframe and is also not none\n",
    "    if isinstance(data, pd.DataFrame) == False or data is None:\n",
    "        raise ValueError(\"data: Expecting a Dataframe or got 'None'\")\n",
    "    \n",
    "    #error instance to check if id column is an identified column name\n",
    "    if id not in data.columns:\n",
    "        raise ValueError(\"id: Expected an id (a column) in Dataframe\")\n",
    "    \n",
    "    #examine the datatype of the date column\n",
    "    #aggregation to calculate recency\n",
    "    result = pd.DataFrame(data.groupby(id).size()).reset_index()\n",
    "    \n",
    "    \n",
    "    #rename column\n",
    "    result.rename(columns = {0 : \"frequency\"}, inplace = True)\n",
    "    return result"
   ]
  },
  {
   "cell_type": "code",
   "execution_count": 14,
   "id": "6d2923bc",
   "metadata": {},
   "outputs": [],
   "source": [
    "def monetary(data, id, spend):\n",
    "    '''\n",
    "    This function will calculate the recency.\n",
    "    data: Dataframe\n",
    "        \n",
    "        A dataframe containing at least the customer ID, Transaction/Order Date\n",
    "    \n",
    "    id:   String, Integer\n",
    "        \n",
    "        (Order/Customer/Transaction) Id column (string or int)\n",
    "        \n",
    "    spend: int or float\n",
    "        \n",
    "        The cost column either transaction cost\n",
    "    '''\n",
    "    #error instance to check if input is either a pandas dataframe and is also not none\n",
    "    if isinstance(data, pd.DataFrame) == False or data is None:\n",
    "        raise ValueError(\"data: Expecting a Dataframe or got 'None'\")\n",
    "    \n",
    "    #error instance to check if id column is an identified column name\n",
    "    if id not in data.columns:\n",
    "        raise ValueError(\"id: Expected an id (a column) in Dataframe\")\n",
    "    \n",
    "    #examine the datatype of the date column\n",
    "    #aggregation to calculate recency\n",
    "    result = pd.DataFrame(data.groupby(id)[spend].sum()).reset_index()\n",
    "    \n",
    "    \n",
    "    #rename column\n",
    "    result.rename(columns = {spend : \"monetary\"}, inplace = True)\n",
    "    return result"
   ]
  },
  {
   "cell_type": "code",
   "execution_count": 15,
   "id": "500101b9",
   "metadata": {},
   "outputs": [
    {
     "data": {
      "text/html": [
       "<div>\n",
       "<style scoped>\n",
       "    .dataframe tbody tr th:only-of-type {\n",
       "        vertical-align: middle;\n",
       "    }\n",
       "\n",
       "    .dataframe tbody tr th {\n",
       "        vertical-align: top;\n",
       "    }\n",
       "\n",
       "    .dataframe thead th {\n",
       "        text-align: right;\n",
       "    }\n",
       "</style>\n",
       "<table border=\"1\" class=\"dataframe\">\n",
       "  <thead>\n",
       "    <tr style=\"text-align: right;\">\n",
       "      <th></th>\n",
       "      <th>customer_id</th>\n",
       "      <th>monetary</th>\n",
       "    </tr>\n",
       "  </thead>\n",
       "  <tbody>\n",
       "    <tr>\n",
       "      <th>0</th>\n",
       "      <td>CS1112</td>\n",
       "      <td>1012</td>\n",
       "    </tr>\n",
       "    <tr>\n",
       "      <th>1</th>\n",
       "      <td>CS1113</td>\n",
       "      <td>1490</td>\n",
       "    </tr>\n",
       "    <tr>\n",
       "      <th>2</th>\n",
       "      <td>CS1114</td>\n",
       "      <td>1432</td>\n",
       "    </tr>\n",
       "    <tr>\n",
       "      <th>3</th>\n",
       "      <td>CS1115</td>\n",
       "      <td>1659</td>\n",
       "    </tr>\n",
       "    <tr>\n",
       "      <th>4</th>\n",
       "      <td>CS1116</td>\n",
       "      <td>857</td>\n",
       "    </tr>\n",
       "    <tr>\n",
       "      <th>...</th>\n",
       "      <td>...</td>\n",
       "      <td>...</td>\n",
       "    </tr>\n",
       "    <tr>\n",
       "      <th>6884</th>\n",
       "      <td>CS8996</td>\n",
       "      <td>582</td>\n",
       "    </tr>\n",
       "    <tr>\n",
       "      <th>6885</th>\n",
       "      <td>CS8997</td>\n",
       "      <td>543</td>\n",
       "    </tr>\n",
       "    <tr>\n",
       "      <th>6886</th>\n",
       "      <td>CS8998</td>\n",
       "      <td>624</td>\n",
       "    </tr>\n",
       "    <tr>\n",
       "      <th>6887</th>\n",
       "      <td>CS8999</td>\n",
       "      <td>383</td>\n",
       "    </tr>\n",
       "    <tr>\n",
       "      <th>6888</th>\n",
       "      <td>CS9000</td>\n",
       "      <td>533</td>\n",
       "    </tr>\n",
       "  </tbody>\n",
       "</table>\n",
       "<p>6889 rows × 2 columns</p>\n",
       "</div>"
      ],
      "text/plain": [
       "     customer_id  monetary\n",
       "0         CS1112      1012\n",
       "1         CS1113      1490\n",
       "2         CS1114      1432\n",
       "3         CS1115      1659\n",
       "4         CS1116       857\n",
       "...          ...       ...\n",
       "6884      CS8996       582\n",
       "6885      CS8997       543\n",
       "6886      CS8998       624\n",
       "6887      CS8999       383\n",
       "6888      CS9000       533\n",
       "\n",
       "[6889 rows x 2 columns]"
      ]
     },
     "execution_count": 15,
     "metadata": {},
     "output_type": "execute_result"
    }
   ],
   "source": [
    "monetary(df, \"customer_id\", \"tran_amount\")"
   ]
  },
  {
   "cell_type": "code",
   "execution_count": 16,
   "id": "7341f218",
   "metadata": {},
   "outputs": [
    {
     "data": {
      "text/html": [
       "<div>\n",
       "<style scoped>\n",
       "    .dataframe tbody tr th:only-of-type {\n",
       "        vertical-align: middle;\n",
       "    }\n",
       "\n",
       "    .dataframe tbody tr th {\n",
       "        vertical-align: top;\n",
       "    }\n",
       "\n",
       "    .dataframe thead th {\n",
       "        text-align: right;\n",
       "    }\n",
       "</style>\n",
       "<table border=\"1\" class=\"dataframe\">\n",
       "  <thead>\n",
       "    <tr style=\"text-align: right;\">\n",
       "      <th></th>\n",
       "      <th>customer_id</th>\n",
       "      <th>tran_amount</th>\n",
       "    </tr>\n",
       "  </thead>\n",
       "  <tbody>\n",
       "    <tr>\n",
       "      <th>0</th>\n",
       "      <td>CS1112</td>\n",
       "      <td>1012</td>\n",
       "    </tr>\n",
       "    <tr>\n",
       "      <th>1</th>\n",
       "      <td>CS1113</td>\n",
       "      <td>1490</td>\n",
       "    </tr>\n",
       "    <tr>\n",
       "      <th>2</th>\n",
       "      <td>CS1114</td>\n",
       "      <td>1432</td>\n",
       "    </tr>\n",
       "    <tr>\n",
       "      <th>3</th>\n",
       "      <td>CS1115</td>\n",
       "      <td>1659</td>\n",
       "    </tr>\n",
       "    <tr>\n",
       "      <th>4</th>\n",
       "      <td>CS1116</td>\n",
       "      <td>857</td>\n",
       "    </tr>\n",
       "    <tr>\n",
       "      <th>...</th>\n",
       "      <td>...</td>\n",
       "      <td>...</td>\n",
       "    </tr>\n",
       "    <tr>\n",
       "      <th>6884</th>\n",
       "      <td>CS8996</td>\n",
       "      <td>582</td>\n",
       "    </tr>\n",
       "    <tr>\n",
       "      <th>6885</th>\n",
       "      <td>CS8997</td>\n",
       "      <td>543</td>\n",
       "    </tr>\n",
       "    <tr>\n",
       "      <th>6886</th>\n",
       "      <td>CS8998</td>\n",
       "      <td>624</td>\n",
       "    </tr>\n",
       "    <tr>\n",
       "      <th>6887</th>\n",
       "      <td>CS8999</td>\n",
       "      <td>383</td>\n",
       "    </tr>\n",
       "    <tr>\n",
       "      <th>6888</th>\n",
       "      <td>CS9000</td>\n",
       "      <td>533</td>\n",
       "    </tr>\n",
       "  </tbody>\n",
       "</table>\n",
       "<p>6889 rows × 2 columns</p>\n",
       "</div>"
      ],
      "text/plain": [
       "     customer_id  tran_amount\n",
       "0         CS1112         1012\n",
       "1         CS1113         1490\n",
       "2         CS1114         1432\n",
       "3         CS1115         1659\n",
       "4         CS1116          857\n",
       "...          ...          ...\n",
       "6884      CS8996          582\n",
       "6885      CS8997          543\n",
       "6886      CS8998          624\n",
       "6887      CS8999          383\n",
       "6888      CS9000          533\n",
       "\n",
       "[6889 rows x 2 columns]"
      ]
     },
     "execution_count": 16,
     "metadata": {},
     "output_type": "execute_result"
    }
   ],
   "source": [
    "pd.DataFrame(df.groupby(\"customer_id\")[\"tran_amount\"].sum()).reset_index()"
   ]
  },
  {
   "cell_type": "code",
   "execution_count": 17,
   "id": "69200008",
   "metadata": {},
   "outputs": [
    {
     "data": {
      "text/html": [
       "<div>\n",
       "<style scoped>\n",
       "    .dataframe tbody tr th:only-of-type {\n",
       "        vertical-align: middle;\n",
       "    }\n",
       "\n",
       "    .dataframe tbody tr th {\n",
       "        vertical-align: top;\n",
       "    }\n",
       "\n",
       "    .dataframe thead th {\n",
       "        text-align: right;\n",
       "    }\n",
       "</style>\n",
       "<table border=\"1\" class=\"dataframe\">\n",
       "  <thead>\n",
       "    <tr style=\"text-align: right;\">\n",
       "      <th></th>\n",
       "      <th>OnlineOrderFlag</th>\n",
       "      <th>CustomerID</th>\n",
       "      <th>Name</th>\n",
       "      <th>ProductSubName</th>\n",
       "      <th>ProductCatName</th>\n",
       "      <th>OrderQty</th>\n",
       "      <th>OrderDate</th>\n",
       "    </tr>\n",
       "  </thead>\n",
       "  <tbody>\n",
       "    <tr>\n",
       "      <th>0</th>\n",
       "      <td>True</td>\n",
       "      <td>11000</td>\n",
       "      <td>Fender Set - Mountain</td>\n",
       "      <td>Fenders</td>\n",
       "      <td>Accessories</td>\n",
       "      <td>1</td>\n",
       "      <td>2013-06-20</td>\n",
       "    </tr>\n",
       "    <tr>\n",
       "      <th>1</th>\n",
       "      <td>True</td>\n",
       "      <td>11000</td>\n",
       "      <td>Mountain-100 Silver, 38</td>\n",
       "      <td>Mountain Bikes</td>\n",
       "      <td>Bikes</td>\n",
       "      <td>1</td>\n",
       "      <td>2011-06-21</td>\n",
       "    </tr>\n",
       "    <tr>\n",
       "      <th>2</th>\n",
       "      <td>True</td>\n",
       "      <td>11000</td>\n",
       "      <td>Touring Tire Tube</td>\n",
       "      <td>Tires and Tubes</td>\n",
       "      <td>Accessories</td>\n",
       "      <td>1</td>\n",
       "      <td>2013-10-03</td>\n",
       "    </tr>\n",
       "    <tr>\n",
       "      <th>3</th>\n",
       "      <td>True</td>\n",
       "      <td>11000</td>\n",
       "      <td>Mountain-200 Silver, 38</td>\n",
       "      <td>Mountain Bikes</td>\n",
       "      <td>Bikes</td>\n",
       "      <td>1</td>\n",
       "      <td>2013-06-20</td>\n",
       "    </tr>\n",
       "    <tr>\n",
       "      <th>4</th>\n",
       "      <td>True</td>\n",
       "      <td>11000</td>\n",
       "      <td>Sport-100 Helmet, Red</td>\n",
       "      <td>Helmets</td>\n",
       "      <td>Accessories</td>\n",
       "      <td>1</td>\n",
       "      <td>2013-10-03</td>\n",
       "    </tr>\n",
       "  </tbody>\n",
       "</table>\n",
       "</div>"
      ],
      "text/plain": [
       "   OnlineOrderFlag  CustomerID                     Name   ProductSubName  \\\n",
       "0             True       11000    Fender Set - Mountain          Fenders   \n",
       "1             True       11000  Mountain-100 Silver, 38   Mountain Bikes   \n",
       "2             True       11000        Touring Tire Tube  Tires and Tubes   \n",
       "3             True       11000  Mountain-200 Silver, 38   Mountain Bikes   \n",
       "4             True       11000    Sport-100 Helmet, Red          Helmets   \n",
       "\n",
       "  ProductCatName  OrderQty   OrderDate  \n",
       "0    Accessories         1  2013-06-20  \n",
       "1          Bikes         1  2011-06-21  \n",
       "2    Accessories         1  2013-10-03  \n",
       "3          Bikes         1  2013-06-20  \n",
       "4    Accessories         1  2013-10-03  "
      ]
     },
     "execution_count": 17,
     "metadata": {},
     "output_type": "execute_result"
    }
   ],
   "source": [
    "test = pd.read_csv(\"https://raw.githubusercontent.com/simmieyungie/Bakery-Analytics/master/transactionsAHW.csv\")\n",
    "\n",
    "test.head()"
   ]
  }
 ],
 "metadata": {
  "kernelspec": {
   "display_name": "Python 3",
   "language": "python",
   "name": "python3"
  },
  "language_info": {
   "codemirror_mode": {
    "name": "ipython",
    "version": 3
   },
   "file_extension": ".py",
   "mimetype": "text/x-python",
   "name": "python",
   "nbconvert_exporter": "python",
   "pygments_lexer": "ipython3",
   "version": "3.8.8"
  }
 },
 "nbformat": 4,
 "nbformat_minor": 5
}
