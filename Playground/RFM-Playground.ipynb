{
 "cells": [
  {
   "cell_type": "code",
   "execution_count": 43,
   "id": "6449a3aa",
   "metadata": {},
   "outputs": [],
   "source": [
    "import pandas as pd #data analysis\n",
    "import matplotlib.pyplot as plt\n",
    "import seaborn as sns"
   ]
  },
  {
   "cell_type": "code",
   "execution_count": 44,
   "id": "bc0b2806",
   "metadata": {},
   "outputs": [
    {
     "data": {
      "text/html": [
       "<div>\n",
       "<style scoped>\n",
       "    .dataframe tbody tr th:only-of-type {\n",
       "        vertical-align: middle;\n",
       "    }\n",
       "\n",
       "    .dataframe tbody tr th {\n",
       "        vertical-align: top;\n",
       "    }\n",
       "\n",
       "    .dataframe thead th {\n",
       "        text-align: right;\n",
       "    }\n",
       "</style>\n",
       "<table border=\"1\" class=\"dataframe\">\n",
       "  <thead>\n",
       "    <tr style=\"text-align: right;\">\n",
       "      <th></th>\n",
       "      <th>customer_id</th>\n",
       "      <th>trans_date</th>\n",
       "      <th>tran_amount</th>\n",
       "    </tr>\n",
       "  </thead>\n",
       "  <tbody>\n",
       "    <tr>\n",
       "      <th>0</th>\n",
       "      <td>CS5295</td>\n",
       "      <td>11-Feb-13</td>\n",
       "      <td>35</td>\n",
       "    </tr>\n",
       "    <tr>\n",
       "      <th>1</th>\n",
       "      <td>CS4768</td>\n",
       "      <td>15-Mar-15</td>\n",
       "      <td>39</td>\n",
       "    </tr>\n",
       "    <tr>\n",
       "      <th>2</th>\n",
       "      <td>CS2122</td>\n",
       "      <td>26-Feb-13</td>\n",
       "      <td>52</td>\n",
       "    </tr>\n",
       "    <tr>\n",
       "      <th>3</th>\n",
       "      <td>CS1217</td>\n",
       "      <td>16-Nov-11</td>\n",
       "      <td>99</td>\n",
       "    </tr>\n",
       "    <tr>\n",
       "      <th>4</th>\n",
       "      <td>CS1850</td>\n",
       "      <td>20-Nov-13</td>\n",
       "      <td>78</td>\n",
       "    </tr>\n",
       "  </tbody>\n",
       "</table>\n",
       "</div>"
      ],
      "text/plain": [
       "  customer_id trans_date  tran_amount\n",
       "0      CS5295  11-Feb-13           35\n",
       "1      CS4768  15-Mar-15           39\n",
       "2      CS2122  26-Feb-13           52\n",
       "3      CS1217  16-Nov-11           99\n",
       "4      CS1850  20-Nov-13           78"
      ]
     },
     "execution_count": 44,
     "metadata": {},
     "output_type": "execute_result"
    }
   ],
   "source": [
    "df = pd.read_csv(\"Retail_Data_Transactions.csv\") #import\n",
    "\n",
    "#preview\n",
    "df.head()"
   ]
  },
  {
   "cell_type": "code",
   "execution_count": 45,
   "id": "5884e048",
   "metadata": {
    "scrolled": true
   },
   "outputs": [
    {
     "name": "stdout",
     "output_type": "stream",
     "text": [
      "C:\\Users\\SIMIYOUNG\\Documents\\Python-Projects\\RFM\\PyRFM\\RFM\n"
     ]
    }
   ],
   "source": [
    "#Configure os folder\n",
    "import os\n",
    "# Create a folder for the pipeline step files\n",
    "experiment_folder = r'C:\\Users\\SIMIYOUNG\\Documents\\Python-Projects\\RFM\\PyRFM\\RFM'\n",
    "os.makedirs(experiment_folder, exist_ok=True)\n",
    "\n",
    "print(experiment_folder)"
   ]
  },
  {
   "cell_type": "code",
   "execution_count": 46,
   "id": "e3a37928",
   "metadata": {},
   "outputs": [
    {
     "data": {
      "text/plain": [
       "customer_id    object\n",
       "trans_date     object\n",
       "tran_amount     int64\n",
       "dtype: object"
      ]
     },
     "execution_count": 46,
     "metadata": {},
     "output_type": "execute_result"
    }
   ],
   "source": [
    "#datatypes\n",
    "df.dtypes"
   ]
  },
  {
   "cell_type": "code",
   "execution_count": 47,
   "id": "eb6a7458",
   "metadata": {},
   "outputs": [
    {
     "data": {
      "text/plain": [
       "customer_id            object\n",
       "trans_date     datetime64[ns]\n",
       "tran_amount             int64\n",
       "dtype: object"
      ]
     },
     "execution_count": 47,
     "metadata": {},
     "output_type": "execute_result"
    }
   ],
   "source": [
    "#change date to date\n",
    "df.trans_date = pd.to_datetime(df[\"trans_date\"])\n",
    "\n",
    "#data type\n",
    "df.dtypes"
   ]
  },
  {
   "cell_type": "code",
   "execution_count": 48,
   "id": "8286d83c",
   "metadata": {},
   "outputs": [
    {
     "data": {
      "text/html": [
       "<div>\n",
       "<style scoped>\n",
       "    .dataframe tbody tr th:only-of-type {\n",
       "        vertical-align: middle;\n",
       "    }\n",
       "\n",
       "    .dataframe tbody tr th {\n",
       "        vertical-align: top;\n",
       "    }\n",
       "\n",
       "    .dataframe thead th {\n",
       "        text-align: right;\n",
       "    }\n",
       "</style>\n",
       "<table border=\"1\" class=\"dataframe\">\n",
       "  <thead>\n",
       "    <tr style=\"text-align: right;\">\n",
       "      <th></th>\n",
       "      <th>customer_id</th>\n",
       "      <th>trans_date</th>\n",
       "      <th>tran_amount</th>\n",
       "    </tr>\n",
       "  </thead>\n",
       "  <tbody>\n",
       "    <tr>\n",
       "      <th>0</th>\n",
       "      <td>CS5295</td>\n",
       "      <td>2013-02-11</td>\n",
       "      <td>35</td>\n",
       "    </tr>\n",
       "    <tr>\n",
       "      <th>1</th>\n",
       "      <td>CS4768</td>\n",
       "      <td>2015-03-15</td>\n",
       "      <td>39</td>\n",
       "    </tr>\n",
       "  </tbody>\n",
       "</table>\n",
       "</div>"
      ],
      "text/plain": [
       "  customer_id trans_date  tran_amount\n",
       "0      CS5295 2013-02-11           35\n",
       "1      CS4768 2015-03-15           39"
      ]
     },
     "execution_count": 48,
     "metadata": {},
     "output_type": "execute_result"
    }
   ],
   "source": [
    "#preview\n",
    "df.head(2)"
   ]
  },
  {
   "cell_type": "markdown",
   "id": "6c73318d",
   "metadata": {},
   "source": [
    "### RFM\n",
    "    - Recency"
   ]
  },
  {
   "cell_type": "code",
   "execution_count": 49,
   "id": "1a3a2e56",
   "metadata": {},
   "outputs": [
    {
     "data": {
      "text/html": [
       "<div>\n",
       "<style scoped>\n",
       "    .dataframe tbody tr th:only-of-type {\n",
       "        vertical-align: middle;\n",
       "    }\n",
       "\n",
       "    .dataframe tbody tr th {\n",
       "        vertical-align: top;\n",
       "    }\n",
       "\n",
       "    .dataframe thead th {\n",
       "        text-align: right;\n",
       "    }\n",
       "</style>\n",
       "<table border=\"1\" class=\"dataframe\">\n",
       "  <thead>\n",
       "    <tr style=\"text-align: right;\">\n",
       "      <th></th>\n",
       "      <th>ID</th>\n",
       "      <th>Min</th>\n",
       "      <th>Max</th>\n",
       "    </tr>\n",
       "  </thead>\n",
       "  <tbody>\n",
       "    <tr>\n",
       "      <th>0</th>\n",
       "      <td>CS1112</td>\n",
       "      <td>2011-06-15</td>\n",
       "      <td>2015-01-14</td>\n",
       "    </tr>\n",
       "    <tr>\n",
       "      <th>1</th>\n",
       "      <td>CS1113</td>\n",
       "      <td>2011-05-27</td>\n",
       "      <td>2015-02-09</td>\n",
       "    </tr>\n",
       "    <tr>\n",
       "      <th>2</th>\n",
       "      <td>CS1114</td>\n",
       "      <td>2011-07-14</td>\n",
       "      <td>2015-02-12</td>\n",
       "    </tr>\n",
       "    <tr>\n",
       "      <th>3</th>\n",
       "      <td>CS1115</td>\n",
       "      <td>2011-08-10</td>\n",
       "      <td>2015-03-05</td>\n",
       "    </tr>\n",
       "    <tr>\n",
       "      <th>4</th>\n",
       "      <td>CS1116</td>\n",
       "      <td>2011-06-27</td>\n",
       "      <td>2014-08-25</td>\n",
       "    </tr>\n",
       "  </tbody>\n",
       "</table>\n",
       "</div>"
      ],
      "text/plain": [
       "       ID        Min        Max\n",
       "0  CS1112 2011-06-15 2015-01-14\n",
       "1  CS1113 2011-05-27 2015-02-09\n",
       "2  CS1114 2011-07-14 2015-02-12\n",
       "3  CS1115 2011-08-10 2015-03-05\n",
       "4  CS1116 2011-06-27 2014-08-25"
      ]
     },
     "execution_count": 49,
     "metadata": {},
     "output_type": "execute_result"
    }
   ],
   "source": [
    "#Aggregate for the min and max date for each customer IDD\n",
    "recency = df.groupby(\"customer_id\").agg({'trans_date':['min', 'max']}).reset_index()\n",
    "\n",
    "#drop levels on columns\n",
    "recency.columns = recency.columns.droplevel()\n",
    "    \n",
    "#rename columns\n",
    "recency.columns = [\"ID\", \"Min\", \"Max\"]\n",
    "\n",
    "#preview\n",
    "recency.head()"
   ]
  },
  {
   "cell_type": "code",
   "execution_count": 50,
   "id": "a95e1556",
   "metadata": {},
   "outputs": [
    {
     "data": {
      "text/plain": [
       "customer_id            object\n",
       "trans_date     datetime64[ns]\n",
       "tran_amount             int64\n",
       "dtype: object"
      ]
     },
     "execution_count": 50,
     "metadata": {},
     "output_type": "execute_result"
    }
   ],
   "source": [
    "df.dtypes"
   ]
  },
  {
   "cell_type": "code",
   "execution_count": 51,
   "id": "a1d0f978",
   "metadata": {},
   "outputs": [],
   "source": [
    "import datetime as dt\n",
    "PRESENT = dt.datetime(2011,12,10)"
   ]
  },
  {
   "cell_type": "code",
   "execution_count": 52,
   "id": "32964c1c",
   "metadata": {},
   "outputs": [
    {
     "data": {
      "text/html": [
       "<div>\n",
       "<style scoped>\n",
       "    .dataframe tbody tr th:only-of-type {\n",
       "        vertical-align: middle;\n",
       "    }\n",
       "\n",
       "    .dataframe tbody tr th {\n",
       "        vertical-align: top;\n",
       "    }\n",
       "\n",
       "    .dataframe thead th {\n",
       "        text-align: right;\n",
       "    }\n",
       "</style>\n",
       "<table border=\"1\" class=\"dataframe\">\n",
       "  <thead>\n",
       "    <tr style=\"text-align: right;\">\n",
       "      <th></th>\n",
       "      <th>customer_id</th>\n",
       "      <th>trans_date</th>\n",
       "    </tr>\n",
       "  </thead>\n",
       "  <tbody>\n",
       "    <tr>\n",
       "      <th>0</th>\n",
       "      <td>CS1112</td>\n",
       "      <td>1309</td>\n",
       "    </tr>\n",
       "    <tr>\n",
       "      <th>1</th>\n",
       "      <td>CS1113</td>\n",
       "      <td>1354</td>\n",
       "    </tr>\n",
       "    <tr>\n",
       "      <th>2</th>\n",
       "      <td>CS1114</td>\n",
       "      <td>1309</td>\n",
       "    </tr>\n",
       "    <tr>\n",
       "      <th>3</th>\n",
       "      <td>CS1115</td>\n",
       "      <td>1303</td>\n",
       "    </tr>\n",
       "    <tr>\n",
       "      <th>4</th>\n",
       "      <td>CS1116</td>\n",
       "      <td>1155</td>\n",
       "    </tr>\n",
       "    <tr>\n",
       "      <th>...</th>\n",
       "      <td>...</td>\n",
       "      <td>...</td>\n",
       "    </tr>\n",
       "    <tr>\n",
       "      <th>6884</th>\n",
       "      <td>CS8996</td>\n",
       "      <td>1120</td>\n",
       "    </tr>\n",
       "    <tr>\n",
       "      <th>6885</th>\n",
       "      <td>CS8997</td>\n",
       "      <td>1116</td>\n",
       "    </tr>\n",
       "    <tr>\n",
       "      <th>6886</th>\n",
       "      <td>CS8998</td>\n",
       "      <td>1293</td>\n",
       "    </tr>\n",
       "    <tr>\n",
       "      <th>6887</th>\n",
       "      <td>CS8999</td>\n",
       "      <td>1073</td>\n",
       "    </tr>\n",
       "    <tr>\n",
       "      <th>6888</th>\n",
       "      <td>CS9000</td>\n",
       "      <td>1273</td>\n",
       "    </tr>\n",
       "  </tbody>\n",
       "</table>\n",
       "<p>6889 rows × 2 columns</p>\n",
       "</div>"
      ],
      "text/plain": [
       "     customer_id  trans_date\n",
       "0         CS1112        1309\n",
       "1         CS1113        1354\n",
       "2         CS1114        1309\n",
       "3         CS1115        1303\n",
       "4         CS1116        1155\n",
       "...          ...         ...\n",
       "6884      CS8996        1120\n",
       "6885      CS8997        1116\n",
       "6886      CS8998        1293\n",
       "6887      CS8999        1073\n",
       "6888      CS9000        1273\n",
       "\n",
       "[6889 rows x 2 columns]"
      ]
     },
     "execution_count": 52,
     "metadata": {},
     "output_type": "execute_result"
    }
   ],
   "source": [
    "df.groupby(\"customer_id\").agg({\"trans_date\": lambda date: (date.max() - date.min()).days}).reset_index()"
   ]
  },
  {
   "cell_type": "code",
   "execution_count": 53,
   "id": "9af57d18",
   "metadata": {},
   "outputs": [
    {
     "data": {
      "text/plain": [
       "pandas.core.frame.DataFrame"
      ]
     },
     "execution_count": 53,
     "metadata": {},
     "output_type": "execute_result"
    }
   ],
   "source": [
    "type(df)"
   ]
  },
  {
   "cell_type": "code",
   "execution_count": 54,
   "id": "cf8b8180",
   "metadata": {},
   "outputs": [
    {
     "data": {
      "text/plain": [
       "Timestamp('2015-03-16 00:00:00')"
      ]
     },
     "execution_count": 54,
     "metadata": {},
     "output_type": "execute_result"
    }
   ],
   "source": [
    "df.trans_date.max()"
   ]
  },
  {
   "cell_type": "code",
   "execution_count": 55,
   "id": "7ccbe03b",
   "metadata": {},
   "outputs": [
    {
     "data": {
      "text/plain": [
       "datetime.datetime(2015, 3, 17, 0, 0)"
      ]
     },
     "execution_count": 55,
     "metadata": {},
     "output_type": "execute_result"
    }
   ],
   "source": [
    "present = dt.datetime(2015,3,17)\n",
    "\n",
    "present"
   ]
  },
  {
   "cell_type": "markdown",
   "id": "db5a24d9",
   "metadata": {},
   "source": [
    "- Investigate how recency max date is actually calculated.  **\n",
    "- See how classification is done\n",
    "- Set list for segmentation for user customizability, also default to 4 segments with warning message."
   ]
  },
  {
   "cell_type": "markdown",
   "id": "ab5b909a",
   "metadata": {},
   "source": [
    "- Note that for Recency Score we need to give inverse labels as the more active the customer is the lower the value of Recency. :)"
   ]
  },
  {
   "cell_type": "markdown",
   "id": "6c82426b",
   "metadata": {},
   "source": [
    "- Customers with the lowest recency, highest frequency and monetary amounts considered as top customers.\n",
    "    I don't think this is based on bins scores"
   ]
  },
  {
   "cell_type": "markdown",
   "id": "0e2ec5c1",
   "metadata": {},
   "source": [
    "#### How RFM Analysis Works\n",
    "\n",
    "- Customers are assigned a recency score based on date of most recent purchase or time interval since most recent purchase. This score is based on a simple ranking of recency values into a small number of categories. For example, if you use five categories, the customers with the most recent purchase dates receive a recency ranking of 5, and those with purchase dates furthest in the past receive a recency ranking of 1.\n",
    "\n",
    "\n",
    "- In a similar fashion, customers are then assigned a frequency ranking, with higher values representing a higher frequency of purchases. For example, in a five category ranking scheme, customers who purchase most often receive a frequency ranking of 5.\n",
    "\n",
    "\n",
    "- Finally, customers are ranked by monetary value, with the highest monetary values receiving the highest ranking. Continuing the five-category example, customers who have spent the most would receive a monetary ranking of 5.\n",
    "\n",
    "Simply put\n",
    "    - The lower the recency score the better\n",
    "    - The higher the frequency score the better\n",
    "    - The higher the monetary score the better"
   ]
  },
  {
   "cell_type": "code",
   "execution_count": 56,
   "id": "6a8b8988",
   "metadata": {},
   "outputs": [],
   "source": [
    "#%%writefile $experiment_folder/recency.py\n",
    "import pandas as pd\n",
    "\n",
    "#define the function\n",
    "def recency(data, id, date, present_date, bins = {5 : [5,4,3,2,1]}):\n",
    "    '''\n",
    "    This function will calculate the recency.\n",
    "    data: Dataframe\n",
    "        \n",
    "        A dataframe containing at least the customer ID, Transaction/Order Date\n",
    "    \n",
    "    id:   String, Integer\n",
    "        \n",
    "        (Order/Customer/Transaction) Id column (string or int)\n",
    "    \n",
    "    date: Date, Datetime, Object\n",
    "\n",
    "        A date column (NB: A type conversion will be attempted by the function but you can also ensure the date type is proper)\n",
    "    threshold: An integer value, specifying how many days should be considered\n",
    "    \n",
    "    present_date: datetime \n",
    "        The present date or most recent date to serve as a reference point for recency\n",
    "        \n",
    "    bins: dictionary, default 5\n",
    "        A dictionary containing the number of segments to be created from recency score and the labels associated \n",
    "        to quantile groups. NB: that for Recency Score we need to give inverse labels as the more active \n",
    "        the customer is the lower the value of Recency i\n",
    "    '''\n",
    "    #error instance to check if input is either a pandas dataframe and is also not none\n",
    "    if isinstance(data, pd.DataFrame) == False or data is None:\n",
    "        raise ValueError(\"data: Expecting a Dataframe or got 'None'\")\n",
    "    \n",
    "    #error instance to check if id column is an identified column name\n",
    "    if id not in data.columns:\n",
    "        raise ValueError(\"id: Expected an id (a column) in Dataframe\")\n",
    "    \n",
    "    #examine the datatype of the date column\n",
    "    if data.dtypes[date].name not in [\"datetime64[ns]\", \"datetime.datetime\"]:\n",
    "        raise ValueError(\"date: Expected a date datatype, 'convert the date/datetime type'\")\n",
    "        #print(\"This Column is not a of date/datetime data type\")\n",
    "    \n",
    "    if present_date is None:\n",
    "        raise ValueError(\"present_date: Specify the recent date to calculate recency\")\n",
    "    #aggregation to calculate recency\n",
    "    result = data.groupby(id) \\\n",
    "            .agg({date: lambda date: (present_date - date.max()).days})\\\n",
    "            .reset_index() #reset index\n",
    "    \n",
    "    if isinstance(bins, dict) == False:\n",
    "        raise ValueError(\"bin: Value needs to be an integer. default is 5\")\n",
    "    \n",
    "    if len(list(bins.values())) != int(list(bins.keys())[0]):\n",
    "        print(\"Warning: The number of bins for quantile is not same as the label. default is {}\".format(bins))\n",
    "    \n",
    "    #rename column\n",
    "    result.rename(columns = {date : \"recency\"}, inplace = True)\n",
    "    \n",
    "    #get bin value\n",
    "    bin_value = int(list(bins.keys())[0])\n",
    "    \n",
    "    #get bin labels\n",
    "    bin_labels = list(bins.values())[0]\n",
    "    \n",
    "    #logic to use bins value\n",
    "    result[\"recency_bins\"] = pd.qcut(result.recency, bin_value, bin_labels)\n",
    "    \n",
    "    #note that if bin changes then label needs to change also\n",
    "    \n",
    "    \n",
    "    return result"
   ]
  },
  {
   "cell_type": "code",
   "execution_count": 57,
   "id": "a4777f1d",
   "metadata": {},
   "outputs": [
    {
     "name": "stdout",
     "output_type": "stream",
     "text": [
      "4\n",
      "[4, 3, 2, 1]\n"
     ]
    }
   ],
   "source": [
    "#Bins tester\n",
    "bins = {4: [4,3,2,1]}\n",
    "#get bin value\n",
    "bin_value = int(list(bins.keys())[0])\n",
    "    \n",
    "print(bin_value)\n",
    "#get bin labels\n",
    "bin_labels = list(bins.values())[0]\n",
    "print(bin_labels)\n"
   ]
  },
  {
   "cell_type": "code",
   "execution_count": 58,
   "id": "bc2f56e8",
   "metadata": {},
   "outputs": [
    {
     "data": {
      "text/plain": [
       "pandas.core.frame.DataFrame"
      ]
     },
     "execution_count": 58,
     "metadata": {},
     "output_type": "execute_result"
    }
   ],
   "source": [
    "type(df)"
   ]
  },
  {
   "cell_type": "code",
   "execution_count": 59,
   "id": "9ab43827",
   "metadata": {},
   "outputs": [
    {
     "data": {
      "text/plain": [
       "datetime.datetime"
      ]
     },
     "execution_count": 59,
     "metadata": {},
     "output_type": "execute_result"
    }
   ],
   "source": [
    "type(present)"
   ]
  },
  {
   "cell_type": "code",
   "execution_count": 60,
   "id": "0addfe28",
   "metadata": {},
   "outputs": [
    {
     "name": "stdout",
     "output_type": "stream",
     "text": [
      "Warning: The number of bins for quantile is not same as the label. default is {6: [6, 5, 4, 3, 2, 1]}\n"
     ]
    },
    {
     "data": {
      "text/html": [
       "<div>\n",
       "<style scoped>\n",
       "    .dataframe tbody tr th:only-of-type {\n",
       "        vertical-align: middle;\n",
       "    }\n",
       "\n",
       "    .dataframe tbody tr th {\n",
       "        vertical-align: top;\n",
       "    }\n",
       "\n",
       "    .dataframe thead th {\n",
       "        text-align: right;\n",
       "    }\n",
       "</style>\n",
       "<table border=\"1\" class=\"dataframe\">\n",
       "  <thead>\n",
       "    <tr style=\"text-align: right;\">\n",
       "      <th></th>\n",
       "      <th>customer_id</th>\n",
       "      <th>recency</th>\n",
       "      <th>recency_bins</th>\n",
       "    </tr>\n",
       "  </thead>\n",
       "  <tbody>\n",
       "    <tr>\n",
       "      <th>0</th>\n",
       "      <td>CS1112</td>\n",
       "      <td>62</td>\n",
       "      <td>3</td>\n",
       "    </tr>\n",
       "    <tr>\n",
       "      <th>1</th>\n",
       "      <td>CS1113</td>\n",
       "      <td>36</td>\n",
       "      <td>4</td>\n",
       "    </tr>\n",
       "    <tr>\n",
       "      <th>2</th>\n",
       "      <td>CS1114</td>\n",
       "      <td>33</td>\n",
       "      <td>4</td>\n",
       "    </tr>\n",
       "    <tr>\n",
       "      <th>3</th>\n",
       "      <td>CS1115</td>\n",
       "      <td>12</td>\n",
       "      <td>6</td>\n",
       "    </tr>\n",
       "    <tr>\n",
       "      <th>4</th>\n",
       "      <td>CS1116</td>\n",
       "      <td>204</td>\n",
       "      <td>1</td>\n",
       "    </tr>\n",
       "    <tr>\n",
       "      <th>...</th>\n",
       "      <td>...</td>\n",
       "      <td>...</td>\n",
       "      <td>...</td>\n",
       "    </tr>\n",
       "    <tr>\n",
       "      <th>6884</th>\n",
       "      <td>CS8996</td>\n",
       "      <td>98</td>\n",
       "      <td>2</td>\n",
       "    </tr>\n",
       "    <tr>\n",
       "      <th>6885</th>\n",
       "      <td>CS8997</td>\n",
       "      <td>262</td>\n",
       "      <td>1</td>\n",
       "    </tr>\n",
       "    <tr>\n",
       "      <th>6886</th>\n",
       "      <td>CS8998</td>\n",
       "      <td>85</td>\n",
       "      <td>3</td>\n",
       "    </tr>\n",
       "    <tr>\n",
       "      <th>6887</th>\n",
       "      <td>CS8999</td>\n",
       "      <td>258</td>\n",
       "      <td>1</td>\n",
       "    </tr>\n",
       "    <tr>\n",
       "      <th>6888</th>\n",
       "      <td>CS9000</td>\n",
       "      <td>17</td>\n",
       "      <td>5</td>\n",
       "    </tr>\n",
       "  </tbody>\n",
       "</table>\n",
       "<p>6889 rows × 3 columns</p>\n",
       "</div>"
      ],
      "text/plain": [
       "     customer_id  recency recency_bins\n",
       "0         CS1112       62            3\n",
       "1         CS1113       36            4\n",
       "2         CS1114       33            4\n",
       "3         CS1115       12            6\n",
       "4         CS1116      204            1\n",
       "...          ...      ...          ...\n",
       "6884      CS8996       98            2\n",
       "6885      CS8997      262            1\n",
       "6886      CS8998       85            3\n",
       "6887      CS8999      258            1\n",
       "6888      CS9000       17            5\n",
       "\n",
       "[6889 rows x 3 columns]"
      ]
     },
     "execution_count": 60,
     "metadata": {},
     "output_type": "execute_result"
    }
   ],
   "source": [
    "#test recency function\n",
    "recency(df, \"customer_id\", \"trans_date\", present, {6 : [6,5,4,3,2,1]})\n",
    "\n",
    "#rec.recency_bins.value_counts()"
   ]
  },
  {
   "cell_type": "code",
   "execution_count": 61,
   "id": "c456d4ae",
   "metadata": {},
   "outputs": [
    {
     "data": {
      "text/html": [
       "<div>\n",
       "<style scoped>\n",
       "    .dataframe tbody tr th:only-of-type {\n",
       "        vertical-align: middle;\n",
       "    }\n",
       "\n",
       "    .dataframe tbody tr th {\n",
       "        vertical-align: top;\n",
       "    }\n",
       "\n",
       "    .dataframe thead th {\n",
       "        text-align: right;\n",
       "    }\n",
       "</style>\n",
       "<table border=\"1\" class=\"dataframe\">\n",
       "  <thead>\n",
       "    <tr style=\"text-align: right;\">\n",
       "      <th></th>\n",
       "      <th>customer_id</th>\n",
       "      <th>trans_date</th>\n",
       "      <th>tran_amount</th>\n",
       "    </tr>\n",
       "  </thead>\n",
       "  <tbody>\n",
       "    <tr>\n",
       "      <th>0</th>\n",
       "      <td>CS5295</td>\n",
       "      <td>2013-02-11</td>\n",
       "      <td>35</td>\n",
       "    </tr>\n",
       "    <tr>\n",
       "      <th>1</th>\n",
       "      <td>CS4768</td>\n",
       "      <td>2015-03-15</td>\n",
       "      <td>39</td>\n",
       "    </tr>\n",
       "    <tr>\n",
       "      <th>2</th>\n",
       "      <td>CS2122</td>\n",
       "      <td>2013-02-26</td>\n",
       "      <td>52</td>\n",
       "    </tr>\n",
       "    <tr>\n",
       "      <th>3</th>\n",
       "      <td>CS1217</td>\n",
       "      <td>2011-11-16</td>\n",
       "      <td>99</td>\n",
       "    </tr>\n",
       "    <tr>\n",
       "      <th>4</th>\n",
       "      <td>CS1850</td>\n",
       "      <td>2013-11-20</td>\n",
       "      <td>78</td>\n",
       "    </tr>\n",
       "  </tbody>\n",
       "</table>\n",
       "</div>"
      ],
      "text/plain": [
       "  customer_id trans_date  tran_amount\n",
       "0      CS5295 2013-02-11           35\n",
       "1      CS4768 2015-03-15           39\n",
       "2      CS2122 2013-02-26           52\n",
       "3      CS1217 2011-11-16           99\n",
       "4      CS1850 2013-11-20           78"
      ]
     },
     "execution_count": 61,
     "metadata": {},
     "output_type": "execute_result"
    }
   ],
   "source": [
    "df.head()"
   ]
  },
  {
   "cell_type": "markdown",
   "id": "ee365ea3",
   "metadata": {},
   "source": [
    "#### Frequency"
   ]
  },
  {
   "cell_type": "code",
   "execution_count": 62,
   "id": "a14b21fa",
   "metadata": {},
   "outputs": [],
   "source": [
    "#%%writefile $experiment_folder/frequency.py\n",
    "\n",
    "#pandas module\n",
    "import pandas as pd\n",
    "\n",
    "#define function\n",
    "def frequency(data, id, bins = {5 : [1,2,3,4,5]}):\n",
    "    '''\n",
    "    This function will calculate the recency.\n",
    "    data: Dataframe\n",
    "        \n",
    "        A dataframe containing at least the customer ID, Transaction/Order Date\n",
    "    \n",
    "    id:   String, Integer\n",
    "        \n",
    "        (Order/Customer/Transaction) Id column (string or int)\n",
    "        \n",
    "    bins: dictionary, default 5\n",
    "        A dictionary containing the number of segments to be created from recency score and the labels associated \n",
    "        to quantile groups. The higher the frequency score the more top priority the customer\n",
    "    '''\n",
    "    #error instance to check if input is either a pandas dataframe and is also not none\n",
    "    if isinstance(data, pd.DataFrame) == False or data is None:\n",
    "        raise ValueError(\"data: Expecting a Dataframe or got 'None'\")\n",
    "    \n",
    "    #error instance to check if id column is an identified column name\n",
    "    if id not in data.columns:\n",
    "        raise ValueError(\"id: Expected an id (a column) in Dataframe\")\n",
    "    \n",
    "    #if bin is not a dictionary, raise error\n",
    "    if isinstance(bins, dict) == False:\n",
    "        raise ValueError(\"bin: Value needs to be an integer. default is 5\")\n",
    "        \n",
    "    #check if the size of the quartile split is the same as  the labels provided\n",
    "    if len(list(bins.values())) != int(list(bins.keys())[0]):\n",
    "        print(\"Warning: The number of bins for quantile is not same as the label. default is {}\".format(bins))\n",
    "    \n",
    "    \n",
    "    #examine the datatype of the date column\n",
    "    #aggregation to calculate recency\n",
    "    result = pd.DataFrame(data.groupby(id).size()).reset_index()\n",
    "    \n",
    "    #rename size column to frequency\n",
    "    result.rename(columns = {0 : \"frequency\"}, inplace = True)\n",
    "    \n",
    "    #get bin value from dict\n",
    "    bin_value = int(list(bins.keys())[0])\n",
    "    \n",
    "    #get bin labels from dict\n",
    "    bin_labels = list(bins.values())[0]\n",
    "    \n",
    "    #logic to use bins value\n",
    "    result[\"frequency_bins\"] = pd.qcut(result.frequency, bin_value, bin_labels)\n",
    "    #rename column\n",
    "    \n",
    "    \n",
    "    \n",
    "    return result"
   ]
  },
  {
   "cell_type": "code",
   "execution_count": 63,
   "id": "d5fe1764",
   "metadata": {},
   "outputs": [
    {
     "name": "stdout",
     "output_type": "stream",
     "text": [
      "Warning: The number of bins for quantile is not same as the label. default is {5: [1, 2, 3, 4, 5]}\n"
     ]
    },
    {
     "data": {
      "text/plain": [
       "1    1743\n",
       "4    1686\n",
       "2    1388\n",
       "5    1070\n",
       "3    1002\n",
       "Name: frequency_bins, dtype: int64"
      ]
     },
     "execution_count": 63,
     "metadata": {},
     "output_type": "execute_result"
    }
   ],
   "source": [
    "#test function\n",
    "(frequency(df, \"customer_id\")).frequency_bins.value_counts()"
   ]
  },
  {
   "cell_type": "code",
   "execution_count": 64,
   "id": "6d2923bc",
   "metadata": {},
   "outputs": [],
   "source": [
    "#%%writefile $experiment_folder/monetary.py\n",
    "\n",
    "#pandas module\n",
    "import pandas as pd\n",
    "\n",
    "#define function\n",
    "def monetary(data, id, spend, bins = {5 : [1,2,3,4,5]}):\n",
    "    '''\n",
    "    This function will calculate the recency.\n",
    "    data: Dataframe\n",
    "        \n",
    "        A dataframe containing at least the customer ID, Transaction/Order Date\n",
    "    \n",
    "    id:   String, Integer\n",
    "        \n",
    "        (Order/Customer/Transaction) Id column (string or int)\n",
    "        \n",
    "    spend: int or float\n",
    "        \n",
    "        The cost column either transaction cost\n",
    "        \n",
    "    bins: dictionary\n",
    "        A dictionary containing the number of segments to be created from recency score and the labels associated \n",
    "        to quantile groups. The higher the monetary label the more top priority the customer\n",
    "    '''\n",
    "    #error instance to check if input is either a pandas dataframe and is also not none\n",
    "    if isinstance(data, pd.DataFrame) == False or data is None:\n",
    "        raise ValueError(\"data: Expecting a Dataframe or got 'None'\")\n",
    "    \n",
    "    #error instance to check if id column is an identified column name\n",
    "    if id not in data.columns or spend not in data.columns:\n",
    "        raise ValueError(\"id/spend: Expected an id/spend (a column name) in 'Dataframe'\")\n",
    "    \n",
    "    #if bin is not a dictionary, raise error\n",
    "    if isinstance(bins, dict) == False:\n",
    "        raise ValueError(\"bin: Value needs to be an integer. default is 5\")\n",
    "        \n",
    "    #check if the size of the quartile split is the same as  the labels provided\n",
    "    if len(list(bins.values())) != int(list(bins.keys())[0]):\n",
    "        print(\"Warning: The number of bins for quantile is not same as the label. default is {}\".format(bins))\n",
    "    \n",
    "    #examine the datatype of the date column\n",
    "    #aggregation to calculate recency\n",
    "    result = pd.DataFrame(data.groupby(id)[spend].sum()).reset_index()\n",
    "\n",
    "    #rename column\n",
    "    result.rename(columns = {spend : \"monetary\"}, inplace = True)\n",
    "    \n",
    "     #get bin value from dict\n",
    "    bin_value = int(list(bins.keys())[0])\n",
    "    \n",
    "    #get bin labels from dict\n",
    "    bin_labels = list(bins.values())[0]\n",
    "    \n",
    "    #logic to use bins value\n",
    "    result[\"monetary_bins\"] = pd.qcut(result.monetary, bin_value, bin_labels)\n",
    "    #rename column\n",
    "    \n",
    "    \n",
    "    return result"
   ]
  },
  {
   "cell_type": "code",
   "execution_count": 65,
   "id": "ba3e51ec",
   "metadata": {},
   "outputs": [
    {
     "data": {
      "text/html": [
       "<div>\n",
       "<style scoped>\n",
       "    .dataframe tbody tr th:only-of-type {\n",
       "        vertical-align: middle;\n",
       "    }\n",
       "\n",
       "    .dataframe tbody tr th {\n",
       "        vertical-align: top;\n",
       "    }\n",
       "\n",
       "    .dataframe thead th {\n",
       "        text-align: right;\n",
       "    }\n",
       "</style>\n",
       "<table border=\"1\" class=\"dataframe\">\n",
       "  <thead>\n",
       "    <tr style=\"text-align: right;\">\n",
       "      <th></th>\n",
       "      <th>customer_id</th>\n",
       "      <th>trans_date</th>\n",
       "      <th>tran_amount</th>\n",
       "    </tr>\n",
       "  </thead>\n",
       "  <tbody>\n",
       "    <tr>\n",
       "      <th>0</th>\n",
       "      <td>CS5295</td>\n",
       "      <td>2013-02-11</td>\n",
       "      <td>35</td>\n",
       "    </tr>\n",
       "    <tr>\n",
       "      <th>1</th>\n",
       "      <td>CS4768</td>\n",
       "      <td>2015-03-15</td>\n",
       "      <td>39</td>\n",
       "    </tr>\n",
       "    <tr>\n",
       "      <th>2</th>\n",
       "      <td>CS2122</td>\n",
       "      <td>2013-02-26</td>\n",
       "      <td>52</td>\n",
       "    </tr>\n",
       "    <tr>\n",
       "      <th>3</th>\n",
       "      <td>CS1217</td>\n",
       "      <td>2011-11-16</td>\n",
       "      <td>99</td>\n",
       "    </tr>\n",
       "    <tr>\n",
       "      <th>4</th>\n",
       "      <td>CS1850</td>\n",
       "      <td>2013-11-20</td>\n",
       "      <td>78</td>\n",
       "    </tr>\n",
       "  </tbody>\n",
       "</table>\n",
       "</div>"
      ],
      "text/plain": [
       "  customer_id trans_date  tran_amount\n",
       "0      CS5295 2013-02-11           35\n",
       "1      CS4768 2015-03-15           39\n",
       "2      CS2122 2013-02-26           52\n",
       "3      CS1217 2011-11-16           99\n",
       "4      CS1850 2013-11-20           78"
      ]
     },
     "execution_count": 65,
     "metadata": {},
     "output_type": "execute_result"
    }
   ],
   "source": [
    "df.head()"
   ]
  },
  {
   "cell_type": "code",
   "execution_count": 66,
   "id": "500101b9",
   "metadata": {},
   "outputs": [
    {
     "name": "stdout",
     "output_type": "stream",
     "text": [
      "Warning: The number of bins for quantile is not same as the label. default is {5: [1, 2, 3, 4, 5]}\n"
     ]
    },
    {
     "data": {
      "text/html": [
       "<div>\n",
       "<style scoped>\n",
       "    .dataframe tbody tr th:only-of-type {\n",
       "        vertical-align: middle;\n",
       "    }\n",
       "\n",
       "    .dataframe tbody tr th {\n",
       "        vertical-align: top;\n",
       "    }\n",
       "\n",
       "    .dataframe thead th {\n",
       "        text-align: right;\n",
       "    }\n",
       "</style>\n",
       "<table border=\"1\" class=\"dataframe\">\n",
       "  <thead>\n",
       "    <tr style=\"text-align: right;\">\n",
       "      <th></th>\n",
       "      <th>customer_id</th>\n",
       "      <th>monetary</th>\n",
       "      <th>monetary_bins</th>\n",
       "    </tr>\n",
       "  </thead>\n",
       "  <tbody>\n",
       "    <tr>\n",
       "      <th>0</th>\n",
       "      <td>CS1112</td>\n",
       "      <td>1012</td>\n",
       "      <td>2</td>\n",
       "    </tr>\n",
       "    <tr>\n",
       "      <th>1</th>\n",
       "      <td>CS1113</td>\n",
       "      <td>1490</td>\n",
       "      <td>4</td>\n",
       "    </tr>\n",
       "    <tr>\n",
       "      <th>2</th>\n",
       "      <td>CS1114</td>\n",
       "      <td>1432</td>\n",
       "      <td>4</td>\n",
       "    </tr>\n",
       "    <tr>\n",
       "      <th>3</th>\n",
       "      <td>CS1115</td>\n",
       "      <td>1659</td>\n",
       "      <td>5</td>\n",
       "    </tr>\n",
       "    <tr>\n",
       "      <th>4</th>\n",
       "      <td>CS1116</td>\n",
       "      <td>857</td>\n",
       "      <td>2</td>\n",
       "    </tr>\n",
       "    <tr>\n",
       "      <th>...</th>\n",
       "      <td>...</td>\n",
       "      <td>...</td>\n",
       "      <td>...</td>\n",
       "    </tr>\n",
       "    <tr>\n",
       "      <th>6884</th>\n",
       "      <td>CS8996</td>\n",
       "      <td>582</td>\n",
       "      <td>1</td>\n",
       "    </tr>\n",
       "    <tr>\n",
       "      <th>6885</th>\n",
       "      <td>CS8997</td>\n",
       "      <td>543</td>\n",
       "      <td>1</td>\n",
       "    </tr>\n",
       "    <tr>\n",
       "      <th>6886</th>\n",
       "      <td>CS8998</td>\n",
       "      <td>624</td>\n",
       "      <td>1</td>\n",
       "    </tr>\n",
       "    <tr>\n",
       "      <th>6887</th>\n",
       "      <td>CS8999</td>\n",
       "      <td>383</td>\n",
       "      <td>1</td>\n",
       "    </tr>\n",
       "    <tr>\n",
       "      <th>6888</th>\n",
       "      <td>CS9000</td>\n",
       "      <td>533</td>\n",
       "      <td>1</td>\n",
       "    </tr>\n",
       "  </tbody>\n",
       "</table>\n",
       "<p>6889 rows × 3 columns</p>\n",
       "</div>"
      ],
      "text/plain": [
       "     customer_id  monetary monetary_bins\n",
       "0         CS1112      1012             2\n",
       "1         CS1113      1490             4\n",
       "2         CS1114      1432             4\n",
       "3         CS1115      1659             5\n",
       "4         CS1116       857             2\n",
       "...          ...       ...           ...\n",
       "6884      CS8996       582             1\n",
       "6885      CS8997       543             1\n",
       "6886      CS8998       624             1\n",
       "6887      CS8999       383             1\n",
       "6888      CS9000       533             1\n",
       "\n",
       "[6889 rows x 3 columns]"
      ]
     },
     "execution_count": 66,
     "metadata": {},
     "output_type": "execute_result"
    }
   ],
   "source": [
    "#test monetary\n",
    "monetary(df, \"customer_id\", \"tran_amount\")"
   ]
  },
  {
   "cell_type": "markdown",
   "id": "5ce42e51",
   "metadata": {},
   "source": [
    "- Define complete RFM function"
   ]
  },
  {
   "cell_type": "code",
   "execution_count": 67,
   "id": "72ab796c",
   "metadata": {},
   "outputs": [],
   "source": [
    "#%%writefile $experiment_folder/rfm.py\n",
    "\n",
    "##pandas module\n",
    "import pandas as pd\n",
    "\n",
    "\n",
    "def rfm(data, id, date, present_date, spend, bins = {5 : [5,4,3,2,1]}):\n",
    "    '''\n",
    "    This function will calculate the recency.\n",
    "    data: Dataframe\n",
    "        \n",
    "        A dataframe containing at least the customer ID, Transaction/Order Date\n",
    "    \n",
    "    id:   String, Integer\n",
    "        \n",
    "        (Order/Customer/Transaction) Id column (string or int)\n",
    "    \n",
    "    date: Date, Datetime, Object\n",
    "\n",
    "        A date column (NB: A type conversion will be attempted by the function but you can also ensure the date type is proper)\n",
    "    threshold: An integer value, specifying how many days should be considered\n",
    "    \n",
    "    present_date: datetime \n",
    "        The present date or most recent date to serve as a reference point for recency\n",
    "        \n",
    "    bins: dictionary, default 5\n",
    "        A dictionary containing the number of segments to be created from recency score and the labels associated \n",
    "        to quantile groups. NB: that for Recency Score we need to give inverse labels as the more active \n",
    "        the customer is the lower the value of Recency i\n",
    "    '''\n",
    "    #error instance to check if input is either a pandas dataframe and is also not none\n",
    "    if isinstance(data, pd.DataFrame) == False or data is None:\n",
    "        raise ValueError(\"data: Expecting a Dataframe or got 'None'\")\n",
    "    \n",
    "    #error instance to check if id column is an identified column name\n",
    "    if id not in data.columns:\n",
    "        raise ValueError(\"id: Expected an id (a column) in Dataframe\")\n",
    "    \n",
    "    #examine the datatype of the date column\n",
    "    if data.dtypes[date].name != \"datetime64[ns]\":\n",
    "        raise ValueError(\"date: Expected a date datatype, 'convert the date/datetime type'\")\n",
    "        #print(\"This Column is not a of date/datetime data type\")\n",
    "    \n",
    "    if present_date is None:\n",
    "        raise ValueError(\"present_date: Specify the recent date to calculate recency\")\n",
    "    #aggregation to calculate recency\n",
    "    result = data.groupby(id) \\\n",
    "            .agg({date: lambda date: (present_date - date.max()).days})\\\n",
    "            .reset_index() #reset index\n",
    "    \n",
    "    if isinstance(bins, dict) == False:\n",
    "        raise ValueError(\"bin: Value needs to be an integer. default is 5\")\n",
    "    \n",
    "    if len(list(bins.values())) != int(list(bins.keys())[0]):\n",
    "        print(\"Warning: The number of bins for quantile is not same as the label. default is {}\".format(bins))\n",
    "    \n",
    "    \n",
    "    #recency\n",
    "    a = recency(data = data, id = id, date = date, present_date = present_date, bins = bins)\n",
    "    \n",
    "    #frequency \n",
    "    #drop id column\n",
    "    b = frequency(data = data, id = id, bins = bins).drop(id, axis = 1)\n",
    "    \n",
    "    #monetary\n",
    "    #drop id column\n",
    "    c = monetary(data = data, id = id, spend = spend, bins = bins).drop(id, axis = 1)\n",
    "    \n",
    "    #append results\n",
    "    result = pd.concat([a, b, c], axis = 1)\n",
    "    \n",
    "    #add rfm column\n",
    "    #concatenate rfm columns individual bin values to get the final rating of each customer\n",
    "    result[\"RFM\"] = result.recency_bins.astype(str) + result.frequency_bins.astype(str) + result.monetary_bins.astype(str)\n",
    "    \n",
    "    return result\n",
    "    "
   ]
  },
  {
   "cell_type": "code",
   "execution_count": 68,
   "id": "ac292974",
   "metadata": {},
   "outputs": [
    {
     "name": "stdout",
     "output_type": "stream",
     "text": [
      "Warning: The number of bins for quantile is not same as the label. default is {5: [5, 4, 3, 2, 1]}\n",
      "Warning: The number of bins for quantile is not same as the label. default is {5: [5, 4, 3, 2, 1]}\n",
      "Warning: The number of bins for quantile is not same as the label. default is {5: [5, 4, 3, 2, 1]}\n",
      "Warning: The number of bins for quantile is not same as the label. default is {5: [5, 4, 3, 2, 1]}\n"
     ]
    }
   ],
   "source": [
    "#apply rfm function\n",
    "customer = rfm(data = df, id = \"customer_id\", date = \"trans_date\", \n",
    "    present_date = present, spend = \"tran_amount\", bins = {5 : [5,4,3,2,1]})"
   ]
  },
  {
   "cell_type": "code",
   "execution_count": 69,
   "id": "25bd472a",
   "metadata": {},
   "outputs": [
    {
     "data": {
      "text/plain": [
       "155    428\n",
       "511    286\n",
       "522    267\n",
       "411    246\n",
       "255    238\n",
       "      ... \n",
       "542      1\n",
       "314      1\n",
       "214      1\n",
       "431      1\n",
       "113      1\n",
       "Name: RFM, Length: 89, dtype: int64"
      ]
     },
     "execution_count": 69,
     "metadata": {},
     "output_type": "execute_result"
    }
   ],
   "source": [
    "#preview\n",
    "customer.RFM.value_counts().sort_values(ascending = False)"
   ]
  },
  {
   "cell_type": "code",
   "execution_count": 70,
   "id": "a66376d3",
   "metadata": {},
   "outputs": [
    {
     "data": {
      "text/html": [
       "<div>\n",
       "<style scoped>\n",
       "    .dataframe tbody tr th:only-of-type {\n",
       "        vertical-align: middle;\n",
       "    }\n",
       "\n",
       "    .dataframe tbody tr th {\n",
       "        vertical-align: top;\n",
       "    }\n",
       "\n",
       "    .dataframe thead th {\n",
       "        text-align: right;\n",
       "    }\n",
       "</style>\n",
       "<table border=\"1\" class=\"dataframe\">\n",
       "  <thead>\n",
       "    <tr style=\"text-align: right;\">\n",
       "      <th></th>\n",
       "      <th>customer_id</th>\n",
       "      <th>recency</th>\n",
       "      <th>recency_bins</th>\n",
       "      <th>frequency</th>\n",
       "      <th>frequency_bins</th>\n",
       "      <th>monetary</th>\n",
       "      <th>monetary_bins</th>\n",
       "      <th>RFM</th>\n",
       "    </tr>\n",
       "  </thead>\n",
       "  <tbody>\n",
       "    <tr>\n",
       "      <th>409</th>\n",
       "      <td>CS1521</td>\n",
       "      <td>195</td>\n",
       "      <td>1</td>\n",
       "      <td>9</td>\n",
       "      <td>5</td>\n",
       "      <td>671</td>\n",
       "      <td>5</td>\n",
       "      <td>155</td>\n",
       "    </tr>\n",
       "    <tr>\n",
       "      <th>418</th>\n",
       "      <td>CS1530</td>\n",
       "      <td>252</td>\n",
       "      <td>1</td>\n",
       "      <td>10</td>\n",
       "      <td>5</td>\n",
       "      <td>626</td>\n",
       "      <td>5</td>\n",
       "      <td>155</td>\n",
       "    </tr>\n",
       "    <tr>\n",
       "      <th>604</th>\n",
       "      <td>CS1716</td>\n",
       "      <td>353</td>\n",
       "      <td>1</td>\n",
       "      <td>6</td>\n",
       "      <td>5</td>\n",
       "      <td>440</td>\n",
       "      <td>5</td>\n",
       "      <td>155</td>\n",
       "    </tr>\n",
       "    <tr>\n",
       "      <th>803</th>\n",
       "      <td>CS1915</td>\n",
       "      <td>183</td>\n",
       "      <td>1</td>\n",
       "      <td>6</td>\n",
       "      <td>5</td>\n",
       "      <td>497</td>\n",
       "      <td>5</td>\n",
       "      <td>155</td>\n",
       "    </tr>\n",
       "    <tr>\n",
       "      <th>921</th>\n",
       "      <td>CS2033</td>\n",
       "      <td>198</td>\n",
       "      <td>1</td>\n",
       "      <td>9</td>\n",
       "      <td>5</td>\n",
       "      <td>571</td>\n",
       "      <td>5</td>\n",
       "      <td>155</td>\n",
       "    </tr>\n",
       "    <tr>\n",
       "      <th>...</th>\n",
       "      <td>...</td>\n",
       "      <td>...</td>\n",
       "      <td>...</td>\n",
       "      <td>...</td>\n",
       "      <td>...</td>\n",
       "      <td>...</td>\n",
       "      <td>...</td>\n",
       "      <td>...</td>\n",
       "    </tr>\n",
       "    <tr>\n",
       "      <th>6873</th>\n",
       "      <td>CS8985</td>\n",
       "      <td>227</td>\n",
       "      <td>1</td>\n",
       "      <td>12</td>\n",
       "      <td>5</td>\n",
       "      <td>502</td>\n",
       "      <td>5</td>\n",
       "      <td>155</td>\n",
       "    </tr>\n",
       "    <tr>\n",
       "      <th>6876</th>\n",
       "      <td>CS8988</td>\n",
       "      <td>249</td>\n",
       "      <td>1</td>\n",
       "      <td>14</td>\n",
       "      <td>5</td>\n",
       "      <td>552</td>\n",
       "      <td>5</td>\n",
       "      <td>155</td>\n",
       "    </tr>\n",
       "    <tr>\n",
       "      <th>6880</th>\n",
       "      <td>CS8992</td>\n",
       "      <td>170</td>\n",
       "      <td>1</td>\n",
       "      <td>9</td>\n",
       "      <td>5</td>\n",
       "      <td>277</td>\n",
       "      <td>5</td>\n",
       "      <td>155</td>\n",
       "    </tr>\n",
       "    <tr>\n",
       "      <th>6885</th>\n",
       "      <td>CS8997</td>\n",
       "      <td>262</td>\n",
       "      <td>1</td>\n",
       "      <td>14</td>\n",
       "      <td>5</td>\n",
       "      <td>543</td>\n",
       "      <td>5</td>\n",
       "      <td>155</td>\n",
       "    </tr>\n",
       "    <tr>\n",
       "      <th>6887</th>\n",
       "      <td>CS8999</td>\n",
       "      <td>258</td>\n",
       "      <td>1</td>\n",
       "      <td>12</td>\n",
       "      <td>5</td>\n",
       "      <td>383</td>\n",
       "      <td>5</td>\n",
       "      <td>155</td>\n",
       "    </tr>\n",
       "  </tbody>\n",
       "</table>\n",
       "<p>428 rows × 8 columns</p>\n",
       "</div>"
      ],
      "text/plain": [
       "     customer_id  recency recency_bins  frequency frequency_bins  monetary  \\\n",
       "409       CS1521      195            1          9              5       671   \n",
       "418       CS1530      252            1         10              5       626   \n",
       "604       CS1716      353            1          6              5       440   \n",
       "803       CS1915      183            1          6              5       497   \n",
       "921       CS2033      198            1          9              5       571   \n",
       "...          ...      ...          ...        ...            ...       ...   \n",
       "6873      CS8985      227            1         12              5       502   \n",
       "6876      CS8988      249            1         14              5       552   \n",
       "6880      CS8992      170            1          9              5       277   \n",
       "6885      CS8997      262            1         14              5       543   \n",
       "6887      CS8999      258            1         12              5       383   \n",
       "\n",
       "     monetary_bins  RFM  \n",
       "409              5  155  \n",
       "418              5  155  \n",
       "604              5  155  \n",
       "803              5  155  \n",
       "921              5  155  \n",
       "...            ...  ...  \n",
       "6873             5  155  \n",
       "6876             5  155  \n",
       "6880             5  155  \n",
       "6885             5  155  \n",
       "6887             5  155  \n",
       "\n",
       "[428 rows x 8 columns]"
      ]
     },
     "execution_count": 70,
     "metadata": {},
     "output_type": "execute_result"
    }
   ],
   "source": [
    "customer[customer.RFM == '155']"
   ]
  },
  {
   "cell_type": "code",
   "execution_count": 71,
   "id": "99cfa5a5",
   "metadata": {},
   "outputs": [
    {
     "data": {
      "text/plain": [
       "RFM\n",
       "511    535050\n",
       "411    455518\n",
       "311    396655\n",
       "522    393005\n",
       "322    317832\n",
       "        ...  \n",
       "535      1246\n",
       "113      1145\n",
       "214      1069\n",
       "514      1026\n",
       "314      1020\n",
       "Name: monetary, Length: 89, dtype: int64"
      ]
     },
     "execution_count": 71,
     "metadata": {},
     "output_type": "execute_result"
    }
   ],
   "source": [
    "customer.groupby('RFM')[\"monetary\"].sum().sort_values(ascending = False)"
   ]
  },
  {
   "cell_type": "code",
   "execution_count": 72,
   "id": "2d9968dc",
   "metadata": {},
   "outputs": [
    {
     "data": {
      "text/html": [
       "<div>\n",
       "<style scoped>\n",
       "    .dataframe tbody tr th:only-of-type {\n",
       "        vertical-align: middle;\n",
       "    }\n",
       "\n",
       "    .dataframe tbody tr th {\n",
       "        vertical-align: top;\n",
       "    }\n",
       "\n",
       "    .dataframe thead tr th {\n",
       "        text-align: left;\n",
       "    }\n",
       "\n",
       "    .dataframe thead tr:last-of-type th {\n",
       "        text-align: right;\n",
       "    }\n",
       "</style>\n",
       "<table border=\"1\" class=\"dataframe\">\n",
       "  <thead>\n",
       "    <tr>\n",
       "      <th></th>\n",
       "      <th colspan=\"2\" halign=\"left\">monetary</th>\n",
       "    </tr>\n",
       "    <tr>\n",
       "      <th></th>\n",
       "      <th>mean</th>\n",
       "      <th>sum</th>\n",
       "    </tr>\n",
       "    <tr>\n",
       "      <th>RFM</th>\n",
       "      <th></th>\n",
       "      <th></th>\n",
       "    </tr>\n",
       "  </thead>\n",
       "  <tbody>\n",
       "    <tr>\n",
       "      <th>111</th>\n",
       "      <td>1852.688889</td>\n",
       "      <td>166742</td>\n",
       "    </tr>\n",
       "    <tr>\n",
       "      <th>112</th>\n",
       "      <td>1530.285714</td>\n",
       "      <td>10712</td>\n",
       "    </tr>\n",
       "    <tr>\n",
       "      <th>113</th>\n",
       "      <td>1145.000000</td>\n",
       "      <td>1145</td>\n",
       "    </tr>\n",
       "    <tr>\n",
       "      <th>121</th>\n",
       "      <td>1654.926829</td>\n",
       "      <td>67852</td>\n",
       "    </tr>\n",
       "    <tr>\n",
       "      <th>122</th>\n",
       "      <td>1465.625899</td>\n",
       "      <td>203722</td>\n",
       "    </tr>\n",
       "    <tr>\n",
       "      <th>...</th>\n",
       "      <td>...</td>\n",
       "      <td>...</td>\n",
       "    </tr>\n",
       "    <tr>\n",
       "      <th>544</th>\n",
       "      <td>921.100775</td>\n",
       "      <td>118822</td>\n",
       "    </tr>\n",
       "    <tr>\n",
       "      <th>545</th>\n",
       "      <td>623.891892</td>\n",
       "      <td>23084</td>\n",
       "    </tr>\n",
       "    <tr>\n",
       "      <th>553</th>\n",
       "      <td>1126.000000</td>\n",
       "      <td>5630</td>\n",
       "    </tr>\n",
       "    <tr>\n",
       "      <th>554</th>\n",
       "      <td>890.919540</td>\n",
       "      <td>77510</td>\n",
       "    </tr>\n",
       "    <tr>\n",
       "      <th>555</th>\n",
       "      <td>509.716049</td>\n",
       "      <td>82574</td>\n",
       "    </tr>\n",
       "  </tbody>\n",
       "</table>\n",
       "<p>89 rows × 2 columns</p>\n",
       "</div>"
      ],
      "text/plain": [
       "        monetary        \n",
       "            mean     sum\n",
       "RFM                     \n",
       "111  1852.688889  166742\n",
       "112  1530.285714   10712\n",
       "113  1145.000000    1145\n",
       "121  1654.926829   67852\n",
       "122  1465.625899  203722\n",
       "..           ...     ...\n",
       "544   921.100775  118822\n",
       "545   623.891892   23084\n",
       "553  1126.000000    5630\n",
       "554   890.919540   77510\n",
       "555   509.716049   82574\n",
       "\n",
       "[89 rows x 2 columns]"
      ]
     },
     "execution_count": 72,
     "metadata": {},
     "output_type": "execute_result"
    }
   ],
   "source": [
    "import numpy as np\n",
    "customer.groupby('RFM').agg({\"monetary\": [np.mean, np.sum]})"
   ]
  },
  {
   "cell_type": "code",
   "execution_count": 73,
   "id": "69200008",
   "metadata": {},
   "outputs": [
    {
     "data": {
      "text/html": [
       "<div>\n",
       "<style scoped>\n",
       "    .dataframe tbody tr th:only-of-type {\n",
       "        vertical-align: middle;\n",
       "    }\n",
       "\n",
       "    .dataframe tbody tr th {\n",
       "        vertical-align: top;\n",
       "    }\n",
       "\n",
       "    .dataframe thead th {\n",
       "        text-align: right;\n",
       "    }\n",
       "</style>\n",
       "<table border=\"1\" class=\"dataframe\">\n",
       "  <thead>\n",
       "    <tr style=\"text-align: right;\">\n",
       "      <th></th>\n",
       "      <th>OnlineOrderFlag</th>\n",
       "      <th>CustomerID</th>\n",
       "      <th>Name</th>\n",
       "      <th>ProductSubName</th>\n",
       "      <th>ProductCatName</th>\n",
       "      <th>OrderQty</th>\n",
       "      <th>OrderDate</th>\n",
       "    </tr>\n",
       "  </thead>\n",
       "  <tbody>\n",
       "    <tr>\n",
       "      <th>0</th>\n",
       "      <td>True</td>\n",
       "      <td>11000</td>\n",
       "      <td>Fender Set - Mountain</td>\n",
       "      <td>Fenders</td>\n",
       "      <td>Accessories</td>\n",
       "      <td>1</td>\n",
       "      <td>2013-06-20</td>\n",
       "    </tr>\n",
       "    <tr>\n",
       "      <th>1</th>\n",
       "      <td>True</td>\n",
       "      <td>11000</td>\n",
       "      <td>Mountain-100 Silver, 38</td>\n",
       "      <td>Mountain Bikes</td>\n",
       "      <td>Bikes</td>\n",
       "      <td>1</td>\n",
       "      <td>2011-06-21</td>\n",
       "    </tr>\n",
       "    <tr>\n",
       "      <th>2</th>\n",
       "      <td>True</td>\n",
       "      <td>11000</td>\n",
       "      <td>Touring Tire Tube</td>\n",
       "      <td>Tires and Tubes</td>\n",
       "      <td>Accessories</td>\n",
       "      <td>1</td>\n",
       "      <td>2013-10-03</td>\n",
       "    </tr>\n",
       "    <tr>\n",
       "      <th>3</th>\n",
       "      <td>True</td>\n",
       "      <td>11000</td>\n",
       "      <td>Mountain-200 Silver, 38</td>\n",
       "      <td>Mountain Bikes</td>\n",
       "      <td>Bikes</td>\n",
       "      <td>1</td>\n",
       "      <td>2013-06-20</td>\n",
       "    </tr>\n",
       "    <tr>\n",
       "      <th>4</th>\n",
       "      <td>True</td>\n",
       "      <td>11000</td>\n",
       "      <td>Sport-100 Helmet, Red</td>\n",
       "      <td>Helmets</td>\n",
       "      <td>Accessories</td>\n",
       "      <td>1</td>\n",
       "      <td>2013-10-03</td>\n",
       "    </tr>\n",
       "  </tbody>\n",
       "</table>\n",
       "</div>"
      ],
      "text/plain": [
       "   OnlineOrderFlag  CustomerID                     Name   ProductSubName  \\\n",
       "0             True       11000    Fender Set - Mountain          Fenders   \n",
       "1             True       11000  Mountain-100 Silver, 38   Mountain Bikes   \n",
       "2             True       11000        Touring Tire Tube  Tires and Tubes   \n",
       "3             True       11000  Mountain-200 Silver, 38   Mountain Bikes   \n",
       "4             True       11000    Sport-100 Helmet, Red          Helmets   \n",
       "\n",
       "  ProductCatName  OrderQty   OrderDate  \n",
       "0    Accessories         1  2013-06-20  \n",
       "1          Bikes         1  2011-06-21  \n",
       "2    Accessories         1  2013-10-03  \n",
       "3          Bikes         1  2013-06-20  \n",
       "4    Accessories         1  2013-10-03  "
      ]
     },
     "execution_count": 73,
     "metadata": {},
     "output_type": "execute_result"
    }
   ],
   "source": [
    "test = pd.read_csv(\"https://raw.githubusercontent.com/simmieyungie/Bakery-Analytics/master/transactionsAHW.csv\")\n",
    "\n",
    "test.head()"
   ]
  },
  {
   "cell_type": "code",
   "execution_count": 74,
   "id": "fdbd3c79",
   "metadata": {},
   "outputs": [
    {
     "data": {
      "text/html": [
       "<div>\n",
       "<style scoped>\n",
       "    .dataframe tbody tr th:only-of-type {\n",
       "        vertical-align: middle;\n",
       "    }\n",
       "\n",
       "    .dataframe tbody tr th {\n",
       "        vertical-align: top;\n",
       "    }\n",
       "\n",
       "    .dataframe thead th {\n",
       "        text-align: right;\n",
       "    }\n",
       "</style>\n",
       "<table border=\"1\" class=\"dataframe\">\n",
       "  <thead>\n",
       "    <tr style=\"text-align: right;\">\n",
       "      <th></th>\n",
       "      <th>customer_id</th>\n",
       "      <th>trans_date</th>\n",
       "      <th>tran_amount</th>\n",
       "    </tr>\n",
       "  </thead>\n",
       "  <tbody>\n",
       "    <tr>\n",
       "      <th>0</th>\n",
       "      <td>CS5295</td>\n",
       "      <td>2013-02-11</td>\n",
       "      <td>35</td>\n",
       "    </tr>\n",
       "    <tr>\n",
       "      <th>1</th>\n",
       "      <td>CS4768</td>\n",
       "      <td>2015-03-15</td>\n",
       "      <td>39</td>\n",
       "    </tr>\n",
       "    <tr>\n",
       "      <th>2</th>\n",
       "      <td>CS2122</td>\n",
       "      <td>2013-02-26</td>\n",
       "      <td>52</td>\n",
       "    </tr>\n",
       "    <tr>\n",
       "      <th>3</th>\n",
       "      <td>CS1217</td>\n",
       "      <td>2011-11-16</td>\n",
       "      <td>99</td>\n",
       "    </tr>\n",
       "    <tr>\n",
       "      <th>4</th>\n",
       "      <td>CS1850</td>\n",
       "      <td>2013-11-20</td>\n",
       "      <td>78</td>\n",
       "    </tr>\n",
       "  </tbody>\n",
       "</table>\n",
       "</div>"
      ],
      "text/plain": [
       "  customer_id trans_date  tran_amount\n",
       "0      CS5295 2013-02-11           35\n",
       "1      CS4768 2015-03-15           39\n",
       "2      CS2122 2013-02-26           52\n",
       "3      CS1217 2011-11-16           99\n",
       "4      CS1850 2013-11-20           78"
      ]
     },
     "execution_count": 74,
     "metadata": {},
     "output_type": "execute_result"
    }
   ],
   "source": [
    "df.head()"
   ]
  },
  {
   "cell_type": "code",
   "execution_count": 75,
   "id": "9d025773",
   "metadata": {},
   "outputs": [
    {
     "data": {
      "text/plain": [
       "<AxesSubplot:>"
      ]
     },
     "execution_count": 75,
     "metadata": {},
     "output_type": "execute_result"
    },
    {
     "data": {
      "image/png": "[encoded data removed]",
      "text/plain": [
       "<Figure size 432x288 with 1 Axes>"
      ]
     },
     "metadata": {
      "needs_background": "light"
     },
     "output_type": "display_data"
    }
   ],
   "source": [
    "customer.recency.hist()"
   ]
  },
  {
   "cell_type": "code",
   "execution_count": 76,
   "id": "91e6691c",
   "metadata": {},
   "outputs": [
    {
     "data": {
      "text/plain": [
       "<AxesSubplot:>"
      ]
     },
     "execution_count": 76,
     "metadata": {},
     "output_type": "execute_result"
    },
    {
     "data": {
      "image/png": "[encoded data removed]",
      "text/plain": [
       "<Figure size 432x288 with 1 Axes>"
      ]
     },
     "metadata": {
      "needs_background": "light"
     },
     "output_type": "display_data"
    }
   ],
   "source": [
    "customer.monetary.hist()"
   ]
  },
  {
   "cell_type": "code",
   "execution_count": 77,
   "id": "f9c6e350",
   "metadata": {},
   "outputs": [
    {
     "data": {
      "text/plain": [
       "<AxesSubplot:>"
      ]
     },
     "execution_count": 77,
     "metadata": {},
     "output_type": "execute_result"
    },
    {
     "data": {
      "image/png": "[encoded data removed]",
      "text/plain": [
       "<Figure size 432x288 with 1 Axes>"
      ]
     },
     "metadata": {
      "needs_background": "light"
     },
     "output_type": "display_data"
    }
   ],
   "source": [
    "customer.frequency.hist()"
   ]
  },
  {
   "cell_type": "code",
   "execution_count": 80,
   "id": "1eefbe69",
   "metadata": {},
   "outputs": [
    {
     "data": {
      "text/html": [
       "<div>\n",
       "<style scoped>\n",
       "    .dataframe tbody tr th:only-of-type {\n",
       "        vertical-align: middle;\n",
       "    }\n",
       "\n",
       "    .dataframe tbody tr th {\n",
       "        vertical-align: top;\n",
       "    }\n",
       "\n",
       "    .dataframe thead th {\n",
       "        text-align: right;\n",
       "    }\n",
       "</style>\n",
       "<table border=\"1\" class=\"dataframe\">\n",
       "  <thead>\n",
       "    <tr style=\"text-align: right;\">\n",
       "      <th></th>\n",
       "      <th>customer_id</th>\n",
       "      <th>recency</th>\n",
       "      <th>recency_bins</th>\n",
       "      <th>frequency</th>\n",
       "      <th>frequency_bins</th>\n",
       "      <th>monetary</th>\n",
       "      <th>monetary_bins</th>\n",
       "      <th>RFM</th>\n",
       "    </tr>\n",
       "  </thead>\n",
       "  <tbody>\n",
       "    <tr>\n",
       "      <th>0</th>\n",
       "      <td>CS1112</td>\n",
       "      <td>62</td>\n",
       "      <td>3</td>\n",
       "      <td>15</td>\n",
       "      <td>4</td>\n",
       "      <td>1012</td>\n",
       "      <td>4</td>\n",
       "      <td>344</td>\n",
       "    </tr>\n",
       "    <tr>\n",
       "      <th>1</th>\n",
       "      <td>CS1113</td>\n",
       "      <td>36</td>\n",
       "      <td>4</td>\n",
       "      <td>20</td>\n",
       "      <td>2</td>\n",
       "      <td>1490</td>\n",
       "      <td>2</td>\n",
       "      <td>422</td>\n",
       "    </tr>\n",
       "    <tr>\n",
       "      <th>2</th>\n",
       "      <td>CS1114</td>\n",
       "      <td>33</td>\n",
       "      <td>4</td>\n",
       "      <td>19</td>\n",
       "      <td>3</td>\n",
       "      <td>1432</td>\n",
       "      <td>2</td>\n",
       "      <td>432</td>\n",
       "    </tr>\n",
       "    <tr>\n",
       "      <th>3</th>\n",
       "      <td>CS1115</td>\n",
       "      <td>12</td>\n",
       "      <td>5</td>\n",
       "      <td>22</td>\n",
       "      <td>2</td>\n",
       "      <td>1659</td>\n",
       "      <td>1</td>\n",
       "      <td>521</td>\n",
       "    </tr>\n",
       "    <tr>\n",
       "      <th>4</th>\n",
       "      <td>CS1116</td>\n",
       "      <td>204</td>\n",
       "      <td>1</td>\n",
       "      <td>13</td>\n",
       "      <td>5</td>\n",
       "      <td>857</td>\n",
       "      <td>4</td>\n",
       "      <td>154</td>\n",
       "    </tr>\n",
       "  </tbody>\n",
       "</table>\n",
       "</div>"
      ],
      "text/plain": [
       "  customer_id  recency recency_bins  frequency frequency_bins  monetary  \\\n",
       "0      CS1112       62            3         15              4      1012   \n",
       "1      CS1113       36            4         20              2      1490   \n",
       "2      CS1114       33            4         19              3      1432   \n",
       "3      CS1115       12            5         22              2      1659   \n",
       "4      CS1116      204            1         13              5       857   \n",
       "\n",
       "  monetary_bins  RFM  \n",
       "0             4  344  \n",
       "1             2  422  \n",
       "2             2  432  \n",
       "3             1  521  \n",
       "4             4  154  "
      ]
     },
     "execution_count": 80,
     "metadata": {},
     "output_type": "execute_result"
    }
   ],
   "source": [
    "customer.head()"
   ]
  },
  {
   "cell_type": "code",
   "execution_count": 113,
   "id": "73550072",
   "metadata": {},
   "outputs": [
    {
     "name": "stdout",
     "output_type": "stream",
     "text": [
      "Writing C:\\Users\\SIMIYOUNG\\Documents\\Python-Projects\\RFM\\PyRFM\\RFM/plot_rfm_hist.py\n"
     ]
    }
   ],
   "source": [
    "#%%writefile $experiment_folder/plot_rfm_hist.py\n",
    "\n",
    "#RFM histogram\n",
    "import matplotlib.pyplot as plt\n",
    "\n",
    "\n",
    "def plot_rfm_hist(rfm_table):\n",
    "    '''\n",
    "    This function will return a histogram distribution of rfm values.\n",
    "    rfm_table: Dataframe\n",
    "        \n",
    "        A dataframe containing at least recency, frequency and monetary columns. It's to be used\n",
    "        particularly after using the rfm function\n",
    "    '''\n",
    "      #error instance to check if input is either a pandas dataframe and is also not none\n",
    "    if isinstance(rfm_table, pd.DataFrame) == False or rfm_table is None:\n",
    "        raise ValueError(\"data: Expecting a Dataframe or got 'None'\")\n",
    "        \n",
    "    if \"recency\" not in rfm_table.columns:\n",
    "        raise ValueError(\"recency: recency column not found in column names, add 'recency'\")\n",
    "        \n",
    "    if \"frequency\" not in rfm_table.columns:\n",
    "        raise ValueError(\"frequency: recency column not found in column names, add 'frequency'\")\n",
    "        \n",
    "    if \"monetary\" not in rfm_table.columns:\n",
    "        raise ValueError(\"monetary: recency column not found in column names, add 'monetary'\")\n",
    "        \n",
    "    fig, ax = plt.subplots(1,3, figsize = (10, 5)) #one row, three columns\n",
    "    #recency\n",
    "    ax[0].hist(rfm_table.recency)\n",
    "    ax[0].set_title(\"Recency\")\n",
    "    #frequency\n",
    "    ax[1].hist(rfm_table.frequency)\n",
    "    ax[1].set_title(\"Frequency\")\n",
    "    #monetary\n",
    "    ax[2].hist(rfm_table.monetary)\n",
    "    ax[2].set_title(\"Monetary\")\n",
    "    plt.show()\n",
    "    \n",
    "    return "
   ]
  },
  {
   "cell_type": "code",
   "execution_count": 111,
   "id": "4ba9c28d",
   "metadata": {},
   "outputs": [
    {
     "data": {
      "image/png": "[encoded data removed]",
      "text/plain": [
       "<Figure size 720x360 with 3 Axes>"
      ]
     },
     "metadata": {
      "needs_background": "light"
     },
     "output_type": "display_data"
    }
   ],
   "source": [
    "plot_rfm_hist(customer)"
   ]
  },
  {
   "cell_type": "markdown",
   "id": "369e9dd4",
   "metadata": {},
   "source": [
    "### Thoughts\n",
    "    - See if we can fit groups using Kmeans instead of quartile for each\n",
    "    - Fit a customer segmentation model using result of rfm bins (theoricize)\n",
    "    - Pareto Analysis for customers\n",
    "    - Heatmap for recency vs freq vs mone"
   ]
  },
  {
   "cell_type": "code",
   "execution_count": 78,
   "id": "b7929e6f",
   "metadata": {},
   "outputs": [],
   "source": [
    "#Pareto\n"
   ]
  },
  {
   "cell_type": "markdown",
   "id": "c342e276",
   "metadata": {},
   "source": []
  }
 ],
 "metadata": {
  "kernelspec": {
   "display_name": "Python 3",
   "language": "python",
   "name": "python3"
  },
  "language_info": {
   "codemirror_mode": {
    "name": "ipython",
    "version": 3
   },
   "file_extension": ".py",
   "mimetype": "text/x-python",
   "name": "python",
   "nbconvert_exporter": "python",
   "pygments_lexer": "ipython3",
   "version": "3.8.8"
  }
 },
 "nbformat": 4,
 "nbformat_minor": 5
}
