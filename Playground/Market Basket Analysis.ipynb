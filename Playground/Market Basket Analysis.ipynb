{
 "cells": [
  {
   "cell_type": "markdown",
   "id": "e97af52b",
   "metadata": {},
   "source": [
    "# Market Basket Encoder\n",
    "This function takes in Transaction ID and Product and encodes into a matrix of ID's and Products"
   ]
  },
  {
   "cell_type": "code",
   "execution_count": 4,
   "id": "9f49125f",
   "metadata": {},
   "outputs": [],
   "source": [
    "#modules\n",
    "import pandas as pd"
   ]
  },
  {
   "cell_type": "code",
   "execution_count": 5,
   "id": "eb8dd2ad",
   "metadata": {},
   "outputs": [
    {
     "data": {
      "text/html": [
       "<div>\n",
       "<style scoped>\n",
       "    .dataframe tbody tr th:only-of-type {\n",
       "        vertical-align: middle;\n",
       "    }\n",
       "\n",
       "    .dataframe tbody tr th {\n",
       "        vertical-align: top;\n",
       "    }\n",
       "\n",
       "    .dataframe thead th {\n",
       "        text-align: right;\n",
       "    }\n",
       "</style>\n",
       "<table border=\"1\" class=\"dataframe\">\n",
       "  <thead>\n",
       "    <tr style=\"text-align: right;\">\n",
       "      <th></th>\n",
       "      <th>Date</th>\n",
       "      <th>Time</th>\n",
       "      <th>Transaction</th>\n",
       "      <th>Item</th>\n",
       "    </tr>\n",
       "  </thead>\n",
       "  <tbody>\n",
       "    <tr>\n",
       "      <th>0</th>\n",
       "      <td>2016-10-30</td>\n",
       "      <td>09:58:11</td>\n",
       "      <td>1</td>\n",
       "      <td>Bread</td>\n",
       "    </tr>\n",
       "    <tr>\n",
       "      <th>1</th>\n",
       "      <td>2016-10-30</td>\n",
       "      <td>10:05:34</td>\n",
       "      <td>2</td>\n",
       "      <td>Scandinavian</td>\n",
       "    </tr>\n",
       "    <tr>\n",
       "      <th>2</th>\n",
       "      <td>2016-10-30</td>\n",
       "      <td>10:05:34</td>\n",
       "      <td>2</td>\n",
       "      <td>Scandinavian</td>\n",
       "    </tr>\n",
       "    <tr>\n",
       "      <th>3</th>\n",
       "      <td>2016-10-30</td>\n",
       "      <td>10:07:57</td>\n",
       "      <td>3</td>\n",
       "      <td>Hot chocolate</td>\n",
       "    </tr>\n",
       "    <tr>\n",
       "      <th>4</th>\n",
       "      <td>2016-10-30</td>\n",
       "      <td>10:07:57</td>\n",
       "      <td>3</td>\n",
       "      <td>Jam</td>\n",
       "    </tr>\n",
       "  </tbody>\n",
       "</table>\n",
       "</div>"
      ],
      "text/plain": [
       "         Date      Time  Transaction           Item\n",
       "0  2016-10-30  09:58:11            1          Bread\n",
       "1  2016-10-30  10:05:34            2   Scandinavian\n",
       "2  2016-10-30  10:05:34            2   Scandinavian\n",
       "3  2016-10-30  10:07:57            3  Hot chocolate\n",
       "4  2016-10-30  10:07:57            3            Jam"
      ]
     },
     "execution_count": 5,
     "metadata": {},
     "output_type": "execute_result"
    }
   ],
   "source": [
    "df = pd.read_csv(\"https://raw.githubusercontent.com/simmieyungie/Bakery-Analytics/master/BreadBasket_DMS.csv\")\n",
    "\n",
    "df.head()"
   ]
  },
  {
   "cell_type": "code",
   "execution_count": 9,
   "id": "73c3baca",
   "metadata": {},
   "outputs": [
    {
     "data": {
      "text/plain": [
       "Transaction  Item         \n",
       "1            Bread            1\n",
       "2            Scandinavian     2\n",
       "3            Cookies          1\n",
       "             Hot chocolate    1\n",
       "             Jam              1\n",
       "                             ..\n",
       "9682         Tacos/Fajita     1\n",
       "             Tea              1\n",
       "9683         Coffee           1\n",
       "             Pastry           1\n",
       "9684         Smoothies        1\n",
       "Length: 19640, dtype: int64"
      ]
     },
     "execution_count": 9,
     "metadata": {},
     "output_type": "execute_result"
    }
   ],
   "source": [
    "df.groupby([\"Transaction\", \"Item\"]).size()"
   ]
  },
  {
   "cell_type": "code",
   "execution_count": 1,
   "id": "7ceffc64",
   "metadata": {},
   "outputs": [
    {
     "name": "stdout",
     "output_type": "stream",
     "text": [
      "C:\\Users\\SIMIYOUNG\\Documents\\Python-Projects\\RFM\\PyRFM\\RFM\n"
     ]
    }
   ],
   "source": [
    "#Configure os folder\n",
    "import os\n",
    "# Create a folder for the pipeline step files\n",
    "experiment_folder = r'C:\\Users\\SIMIYOUNG\\Documents\\Python-Projects\\RFM\\PyRFM\\RFM'\n",
    "os.makedirs(experiment_folder, exist_ok=True)\n",
    "\n",
    "print(experiment_folder)"
   ]
  },
  {
   "cell_type": "code",
   "execution_count": 10,
   "id": "0259dc72",
   "metadata": {},
   "outputs": [
    {
     "name": "stdout",
     "output_type": "stream",
     "text": [
      "Overwriting C:\\Users\\SIMIYOUNG\\Documents\\Python-Projects\\RFM\\PyRFM\\RFM/mba_encoder.py\n"
     ]
    }
   ],
   "source": [
    "%%writefile $experiment_folder/mba_encoder.py\n",
    "def mba_encoder(data, id_col, product_col, quantity_col, summary_criteria = None):\n",
    "    '''\n",
    "    This function will preprocess and return a one-hot encode matrix of ID's and products.\n",
    "    data: Dataframe\n",
    "        \n",
    "        A dataframe containing at least the customer ID, Transaction/Order Date\n",
    "    \n",
    "    id_col:   String\n",
    "        \n",
    "        Column name containing ID\n",
    "    \n",
    "    product_col: String\n",
    "        \n",
    "        Column name containing product col\n",
    "        \n",
    "    quantity_col: String\n",
    "    \n",
    "        Column name containing quantity of product purchase\n",
    "        \n",
    "    summary_criteria: Dict\n",
    "        \n",
    "        A dictionary containing summary criteria\n",
    "    '''\n",
    "    #error handlers\n",
    "    #error instance to check if input is either a pandas dataframe and is also not none\n",
    "    if isinstance(data, pd.DataFrame) == False or data is None:\n",
    "        raise ValueError(\"data: Expecting a Dataframe or got 'None'\")\n",
    "    \n",
    "    #error instance to check if id column is an identified column name\n",
    "    if id_col not in data.columns:\n",
    "        raise ValueError(\"id: Expected a valid id column name in Dataframe 'data'\")\n",
    "    \n",
    "     #error instance to check if product column is an identified column name\n",
    "    if product_col not in data.columns:\n",
    "        raise ValueError(\"id: Expected a valid product column name in Dataframe 'data'\")\n",
    "    \n",
    "    #error handler if instance for summary_criteria if \n",
    "    if summary_criteria != None and isinstance(summary_criteria, dict) == False:\n",
    "        raise TypeError(\"summary_criteria: Expected a dict dtype if summary_criteria is not 'None'\")\n",
    "    \n",
    "    #if data is to be summarised\n",
    "    if summary_criteria != None and isinstance(summary_criteria, dict) == True:\n",
    "        summary = list(summary_criteria.keys()) \n",
    "        cols = list(summary_criteria.values())\n",
    "        \n",
    "        data.groupby([summary])\n",
    "        \n",
    "     \n",
    "    \n",
    "    \n",
    "    #Encoding\n",
    "    basket = data \\\n",
    "    .unstack() \\\n",
    "    .reset_index()\n",
    "    .set_index(id_col)\n",
    "    \n",
    "    \n",
    "    \n",
    "    return basket"
   ]
  }
 ],
 "metadata": {
  "kernelspec": {
   "display_name": "Python 3",
   "language": "python",
   "name": "python3"
  },
  "language_info": {
   "codemirror_mode": {
    "name": "ipython",
    "version": 3
   },
   "file_extension": ".py",
   "mimetype": "text/x-python",
   "name": "python",
   "nbconvert_exporter": "python",
   "pygments_lexer": "ipython3",
   "version": "3.8.8"
  }
 },
 "nbformat": 4,
 "nbformat_minor": 5
}
