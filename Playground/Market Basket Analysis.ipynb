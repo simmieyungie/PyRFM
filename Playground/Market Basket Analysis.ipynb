{
 "cells": [
  {
   "cell_type": "markdown",
   "id": "be671d53",
   "metadata": {},
   "source": [
    "# Market Basket Encoder\n",
    "This function takes in Transaction ID and Product and encodes into a matrix of ID's and Products"
   ]
  },
  {
   "cell_type": "code",
   "execution_count": 1,
   "id": "61d90f89",
   "metadata": {},
   "outputs": [
    {
     "name": "stdout",
     "output_type": "stream",
     "text": [
      "C:\\Users\\SIMIYOUNG\\Documents\\Python-Projects\\RFM\\PyRFM\\RFM\n"
     ]
    }
   ],
   "source": [
    "#Configure os folder\n",
    "import os\n",
    "# Create a folder for the pipeline step files\n",
    "experiment_folder = r'C:\\Users\\SIMIYOUNG\\Documents\\Python-Projects\\RFM\\PyRFM\\RFM'\n",
    "os.makedirs(experiment_folder, exist_ok=True)\n",
    "\n",
    "print(experiment_folder)"
   ]
  },
  {
   "cell_type": "code",
   "execution_count": 2,
   "id": "5ba68b1b",
   "metadata": {},
   "outputs": [
    {
     "name": "stdout",
     "output_type": "stream",
     "text": [
      "Writing C:\\Users\\SIMIYOUNG\\Documents\\Python-Projects\\RFM\\PyRFM\\RFM/mba_encoder.py\n"
     ]
    }
   ],
   "source": [
    "%%writefile $experiment_folder/mba_encoder.py\n",
    "def mba_encoder(data, id_col, product_col):\n",
    "    '''\n",
    "    This function will preprocess and return a one-hot encode matrix of ID's and products.\n",
    "    data: Dataframe\n",
    "        \n",
    "        A dataframe containing at least the customer ID, Transaction/Order Date\n",
    "    \n",
    "    id_col:   String\n",
    "        \n",
    "        column name containing ID\n",
    "    \n",
    "    product_col: String\n",
    "        \n",
    "        Column name containing product col\n",
    "    '''\n",
    "    #error handlers\n",
    "    #error instance to check if input is either a pandas dataframe and is also not none\n",
    "    if isinstance(data, pd.DataFrame) == False or data is None:\n",
    "        raise ValueError(\"data: Expecting a Dataframe or got 'None'\")\n",
    "    \n",
    "    #error instance to check if id column is an identified column name\n",
    "    if id_col not in data.columns:\n",
    "        raise ValueError(\"id: Expected a valid id column name in Dataframe 'data'\")\n",
    "    \n",
    "     #error instance to check if product column is an identified column name\n",
    "    if product_col not in data.columns:\n",
    "        raise ValueError(\"id: Expected a valid product column name in Dataframe 'data'\")\n",
    "    \n",
    "    \n",
    "    \n",
    "    "
   ]
  }
 ],
 "metadata": {
  "kernelspec": {
   "display_name": "Python 3",
   "language": "python",
   "name": "python3"
  },
  "language_info": {
   "codemirror_mode": {
    "name": "ipython",
    "version": 3
   },
   "file_extension": ".py",
   "mimetype": "text/x-python",
   "name": "python",
   "nbconvert_exporter": "python",
   "pygments_lexer": "ipython3",
   "version": "3.8.8"
  }
 },
 "nbformat": 4,
 "nbformat_minor": 5
}
